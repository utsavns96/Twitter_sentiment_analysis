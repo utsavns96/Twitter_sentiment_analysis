{
 "cells": [
  {
   "cell_type": "markdown",
   "metadata": {},
   "source": [
    "# Romney Tweets<br>\n",
    "***"
   ]
  },
  {
   "cell_type": "markdown",
   "metadata": {},
   "source": [
    "To start off, we first specify all the imports that we'll need for this notebook:"
   ]
  },
  {
   "cell_type": "markdown",
   "metadata": {},
   "source": [
    "Run the following commands in the terminal to install the required packages\n",
    "\n",
    "`pip install gensim` <br>\n",
    "`pip install nltk` <br>\n",
    "`pip install seaborn` <br>\n",
    "`pip install sklearn` <br>\n",
    "`pip install pandas` <br>\n",
    "`pip install numpy` <br>"
   ]
  },
  {
   "cell_type": "code",
   "execution_count": 2,
   "metadata": {},
   "outputs": [],
   "source": [
    "import nltk\n",
    "import pandas as pd\n",
    "import re\n",
    "import numpy as np\n",
    "from nltk.tokenize import RegexpTokenizer\n",
    "from nltk.corpus import stopwords\n",
    "from sklearn.model_selection import train_test_split\n",
    "from nltk.probability import FreqDist\n",
    "from sklearn.feature_extraction.text import TfidfVectorizer\n",
    "from sklearn.metrics import classification_report, f1_score, accuracy_score, precision_score, recall_score\n",
    "from gensim.models import Word2Vec\n",
    "from sklearn.preprocessing import MinMaxScaler\n",
    "from nltk.stem import WordNetLemmatizer\n",
    "from nltk.corpus import wordnet\n",
    "import matplotlib.pyplot as plt\n",
    "import seaborn as sns\n",
    "#models:\n",
    "from sklearn.linear_model import LogisticRegression\n",
    "from sklearn.naive_bayes import MultinomialNB\n",
    "from sklearn import svm\n",
    "from sklearn.model_selection import GridSearchCV\n",
    "from sklearn.neighbors import KNeighborsClassifier\n",
    "from sklearn.ensemble import VotingClassifier\n",
    "\n",
    "# Setting our file paths\n",
    "training_data_excel = 'C:/Users/utsav/OneDrive/UIC/Fall_2023/CS_583/Project/training-Obama-Romney-tweets.xlsx'\n",
    "training_data_sheet = 'Romney'\n",
    "sample_data_excel = 'C:/Users/utsav/OneDrive/UIC/Fall_2023/CS_583/Project/Test/final-testData-no-label-Romney-tweets.xlsx'\n",
    "sample_data_sheet = 'Romney'\n",
    "output_file = 'C:/Users/utsav/OneDrive/UIC/Fall_2023/CS_583/Project/utsav_Romney.txt'"
   ]
  },
  {
   "cell_type": "markdown",
   "metadata": {},
   "source": [
    "We now load the data from the input excel into a dataframe"
   ]
  },
  {
   "cell_type": "code",
   "execution_count": 3,
   "metadata": {},
   "outputs": [
    {
     "data": {
      "text/html": [
       "<div>\n",
       "<style scoped>\n",
       "    .dataframe tbody tr th:only-of-type {\n",
       "        vertical-align: middle;\n",
       "    }\n",
       "\n",
       "    .dataframe tbody tr th {\n",
       "        vertical-align: top;\n",
       "    }\n",
       "\n",
       "    .dataframe thead th {\n",
       "        text-align: right;\n",
       "    }\n",
       "</style>\n",
       "<table border=\"1\" class=\"dataframe\">\n",
       "  <thead>\n",
       "    <tr style=\"text-align: right;\">\n",
       "      <th></th>\n",
       "      <th>Unnamed: 0</th>\n",
       "      <th>date</th>\n",
       "      <th>time</th>\n",
       "      <th>Anootated tweet</th>\n",
       "      <th>Unnamed: 4</th>\n",
       "      <th>Unnamed: 5</th>\n",
       "    </tr>\n",
       "  </thead>\n",
       "  <tbody>\n",
       "    <tr>\n",
       "      <th>0</th>\n",
       "      <td>NaN</td>\n",
       "      <td>NaN</td>\n",
       "      <td>NaN</td>\n",
       "      <td>1: positive, -1: negative, 0: neutral, 2: mixed</td>\n",
       "      <td>Class</td>\n",
       "      <td>Your class label</td>\n",
       "    </tr>\n",
       "    <tr>\n",
       "      <th>1</th>\n",
       "      <td>NaN</td>\n",
       "      <td>2012-10-16 00:00:00</td>\n",
       "      <td>09:38:08-05:00</td>\n",
       "      <td>Insidious!&lt;e&gt;Mitt Romney&lt;/e&gt;'s Bain Helped Phi...</td>\n",
       "      <td>-1</td>\n",
       "      <td>NaN</td>\n",
       "    </tr>\n",
       "    <tr>\n",
       "      <th>2</th>\n",
       "      <td>NaN</td>\n",
       "      <td>2012-10-16 00:00:00</td>\n",
       "      <td>10:22:34-05:00</td>\n",
       "      <td>Senior &lt;e&gt;Romney&lt;/e&gt; Advisor Claims &lt;e&gt;Obama&lt;/...</td>\n",
       "      <td>2</td>\n",
       "      <td>NaN</td>\n",
       "    </tr>\n",
       "    <tr>\n",
       "      <th>3</th>\n",
       "      <td>NaN</td>\n",
       "      <td>2012-10-16 00:00:00</td>\n",
       "      <td>10:14:18-05:00</td>\n",
       "      <td>.@WardBrenda @shortwave8669 @allanbourdius you...</td>\n",
       "      <td>-1</td>\n",
       "      <td>NaN</td>\n",
       "    </tr>\n",
       "    <tr>\n",
       "      <th>4</th>\n",
       "      <td>NaN</td>\n",
       "      <td>2012-10-16 00:00:00</td>\n",
       "      <td>09:27:16-05:00</td>\n",
       "      <td>&lt;e&gt;Mitt Romney&lt;/e&gt; still doesn't &lt;a&gt;believe&lt;/a...</td>\n",
       "      <td>-1</td>\n",
       "      <td>NaN</td>\n",
       "    </tr>\n",
       "  </tbody>\n",
       "</table>\n",
       "</div>"
      ],
      "text/plain": [
       "   Unnamed: 0                 date            time  \\\n",
       "0         NaN                  NaN             NaN   \n",
       "1         NaN  2012-10-16 00:00:00  09:38:08-05:00   \n",
       "2         NaN  2012-10-16 00:00:00  10:22:34-05:00   \n",
       "3         NaN  2012-10-16 00:00:00  10:14:18-05:00   \n",
       "4         NaN  2012-10-16 00:00:00  09:27:16-05:00   \n",
       "\n",
       "                                     Anootated tweet Unnamed: 4  \\\n",
       "0    1: positive, -1: negative, 0: neutral, 2: mixed      Class   \n",
       "1  Insidious!<e>Mitt Romney</e>'s Bain Helped Phi...         -1   \n",
       "2  Senior <e>Romney</e> Advisor Claims <e>Obama</...          2   \n",
       "3  .@WardBrenda @shortwave8669 @allanbourdius you...         -1   \n",
       "4  <e>Mitt Romney</e> still doesn't <a>believe</a...         -1   \n",
       "\n",
       "         Unnamed: 5  \n",
       "0  Your class label  \n",
       "1               NaN  \n",
       "2               NaN  \n",
       "3               NaN  \n",
       "4               NaN  "
      ]
     },
     "execution_count": 3,
     "metadata": {},
     "output_type": "execute_result"
    }
   ],
   "source": [
    "#data loading\n",
    "data = pd.ExcelFile(training_data_excel)\n",
    "romney = pd.read_excel(data, training_data_sheet)\n",
    "romney.head(5)"
   ]
  },
  {
   "cell_type": "markdown",
   "metadata": {},
   "source": [
    "## Data Cleaning and Lemmatization<br>\n",
    "___"
   ]
  },
  {
   "cell_type": "markdown",
   "metadata": {},
   "source": [
    "We can now start cleaning the data.<br>\n",
    "We drop the first row from the dataframe:"
   ]
  },
  {
   "cell_type": "code",
   "execution_count": 4,
   "metadata": {},
   "outputs": [
    {
     "data": {
      "text/html": [
       "<div>\n",
       "<style scoped>\n",
       "    .dataframe tbody tr th:only-of-type {\n",
       "        vertical-align: middle;\n",
       "    }\n",
       "\n",
       "    .dataframe tbody tr th {\n",
       "        vertical-align: top;\n",
       "    }\n",
       "\n",
       "    .dataframe thead th {\n",
       "        text-align: right;\n",
       "    }\n",
       "</style>\n",
       "<table border=\"1\" class=\"dataframe\">\n",
       "  <thead>\n",
       "    <tr style=\"text-align: right;\">\n",
       "      <th></th>\n",
       "      <th>Unnamed: 0</th>\n",
       "      <th>date</th>\n",
       "      <th>time</th>\n",
       "      <th>Anootated tweet</th>\n",
       "      <th>Unnamed: 4</th>\n",
       "      <th>Unnamed: 5</th>\n",
       "    </tr>\n",
       "  </thead>\n",
       "  <tbody>\n",
       "    <tr>\n",
       "      <th>1</th>\n",
       "      <td>NaN</td>\n",
       "      <td>2012-10-16 00:00:00</td>\n",
       "      <td>09:38:08-05:00</td>\n",
       "      <td>Insidious!&lt;e&gt;Mitt Romney&lt;/e&gt;'s Bain Helped Phi...</td>\n",
       "      <td>-1</td>\n",
       "      <td>NaN</td>\n",
       "    </tr>\n",
       "    <tr>\n",
       "      <th>2</th>\n",
       "      <td>NaN</td>\n",
       "      <td>2012-10-16 00:00:00</td>\n",
       "      <td>10:22:34-05:00</td>\n",
       "      <td>Senior &lt;e&gt;Romney&lt;/e&gt; Advisor Claims &lt;e&gt;Obama&lt;/...</td>\n",
       "      <td>2</td>\n",
       "      <td>NaN</td>\n",
       "    </tr>\n",
       "    <tr>\n",
       "      <th>3</th>\n",
       "      <td>NaN</td>\n",
       "      <td>2012-10-16 00:00:00</td>\n",
       "      <td>10:14:18-05:00</td>\n",
       "      <td>.@WardBrenda @shortwave8669 @allanbourdius you...</td>\n",
       "      <td>-1</td>\n",
       "      <td>NaN</td>\n",
       "    </tr>\n",
       "    <tr>\n",
       "      <th>4</th>\n",
       "      <td>NaN</td>\n",
       "      <td>2012-10-16 00:00:00</td>\n",
       "      <td>09:27:16-05:00</td>\n",
       "      <td>&lt;e&gt;Mitt Romney&lt;/e&gt; still doesn't &lt;a&gt;believe&lt;/a...</td>\n",
       "      <td>-1</td>\n",
       "      <td>NaN</td>\n",
       "    </tr>\n",
       "    <tr>\n",
       "      <th>5</th>\n",
       "      <td>NaN</td>\n",
       "      <td>2012-10-16 00:00:00</td>\n",
       "      <td>10:11:43-05:00</td>\n",
       "      <td>&lt;e&gt;Romney&lt;/e&gt;'s &lt;a&gt;tax plan&lt;/a&gt; deserves a 2nd...</td>\n",
       "      <td>-1</td>\n",
       "      <td>NaN</td>\n",
       "    </tr>\n",
       "  </tbody>\n",
       "</table>\n",
       "</div>"
      ],
      "text/plain": [
       "   Unnamed: 0                 date            time  \\\n",
       "1         NaN  2012-10-16 00:00:00  09:38:08-05:00   \n",
       "2         NaN  2012-10-16 00:00:00  10:22:34-05:00   \n",
       "3         NaN  2012-10-16 00:00:00  10:14:18-05:00   \n",
       "4         NaN  2012-10-16 00:00:00  09:27:16-05:00   \n",
       "5         NaN  2012-10-16 00:00:00  10:11:43-05:00   \n",
       "\n",
       "                                     Anootated tweet Unnamed: 4 Unnamed: 5  \n",
       "1  Insidious!<e>Mitt Romney</e>'s Bain Helped Phi...         -1        NaN  \n",
       "2  Senior <e>Romney</e> Advisor Claims <e>Obama</...          2        NaN  \n",
       "3  .@WardBrenda @shortwave8669 @allanbourdius you...         -1        NaN  \n",
       "4  <e>Mitt Romney</e> still doesn't <a>believe</a...         -1        NaN  \n",
       "5  <e>Romney</e>'s <a>tax plan</a> deserves a 2nd...         -1        NaN  "
      ]
     },
     "execution_count": 4,
     "metadata": {},
     "output_type": "execute_result"
    }
   ],
   "source": [
    "romney = romney[1:]\n",
    "romney.head(5)"
   ]
  },
  {
   "cell_type": "markdown",
   "metadata": {},
   "source": [
    "Now, we can drop the columns that we do not need, namely: `Unnamed: 0`, `date`, `time` and `Unnamed: 5`.<br>\n",
    "We also rename `Unnamed: 4 ` to `class` and `Anootated tweet` to `tweet`."
   ]
  },
  {
   "cell_type": "code",
   "execution_count": 5,
   "metadata": {},
   "outputs": [
    {
     "data": {
      "text/html": [
       "<div>\n",
       "<style scoped>\n",
       "    .dataframe tbody tr th:only-of-type {\n",
       "        vertical-align: middle;\n",
       "    }\n",
       "\n",
       "    .dataframe tbody tr th {\n",
       "        vertical-align: top;\n",
       "    }\n",
       "\n",
       "    .dataframe thead th {\n",
       "        text-align: right;\n",
       "    }\n",
       "</style>\n",
       "<table border=\"1\" class=\"dataframe\">\n",
       "  <thead>\n",
       "    <tr style=\"text-align: right;\">\n",
       "      <th></th>\n",
       "      <th>tweet</th>\n",
       "      <th>class</th>\n",
       "    </tr>\n",
       "  </thead>\n",
       "  <tbody>\n",
       "    <tr>\n",
       "      <th>1</th>\n",
       "      <td>Insidious!&lt;e&gt;Mitt Romney&lt;/e&gt;'s Bain Helped Phi...</td>\n",
       "      <td>-1</td>\n",
       "    </tr>\n",
       "    <tr>\n",
       "      <th>2</th>\n",
       "      <td>Senior &lt;e&gt;Romney&lt;/e&gt; Advisor Claims &lt;e&gt;Obama&lt;/...</td>\n",
       "      <td>2</td>\n",
       "    </tr>\n",
       "    <tr>\n",
       "      <th>3</th>\n",
       "      <td>.@WardBrenda @shortwave8669 @allanbourdius you...</td>\n",
       "      <td>-1</td>\n",
       "    </tr>\n",
       "    <tr>\n",
       "      <th>4</th>\n",
       "      <td>&lt;e&gt;Mitt Romney&lt;/e&gt; still doesn't &lt;a&gt;believe&lt;/a...</td>\n",
       "      <td>-1</td>\n",
       "    </tr>\n",
       "    <tr>\n",
       "      <th>5</th>\n",
       "      <td>&lt;e&gt;Romney&lt;/e&gt;'s &lt;a&gt;tax plan&lt;/a&gt; deserves a 2nd...</td>\n",
       "      <td>-1</td>\n",
       "    </tr>\n",
       "  </tbody>\n",
       "</table>\n",
       "</div>"
      ],
      "text/plain": [
       "                                               tweet class\n",
       "1  Insidious!<e>Mitt Romney</e>'s Bain Helped Phi...    -1\n",
       "2  Senior <e>Romney</e> Advisor Claims <e>Obama</...     2\n",
       "3  .@WardBrenda @shortwave8669 @allanbourdius you...    -1\n",
       "4  <e>Mitt Romney</e> still doesn't <a>believe</a...    -1\n",
       "5  <e>Romney</e>'s <a>tax plan</a> deserves a 2nd...    -1"
      ]
     },
     "execution_count": 5,
     "metadata": {},
     "output_type": "execute_result"
    }
   ],
   "source": [
    "romney = romney.drop(['Unnamed: 0', 'date', 'time', 'Unnamed: 5'], axis=1)\n",
    "romney = romney.rename(columns={'Unnamed: 4': 'class', 'Anootated tweet': 'tweet'})\n",
    "romney.head(5)"
   ]
  },
  {
   "cell_type": "markdown",
   "metadata": {},
   "source": [
    "We can check the number of classes available in the dataset:"
   ]
  },
  {
   "cell_type": "code",
   "execution_count": 6,
   "metadata": {},
   "outputs": [
    {
     "name": "stdout",
     "output_type": "stream",
     "text": [
      "-1      2893\n",
      "0       1680\n",
      "2       1351\n",
      "1       1075\n",
      "!!!!     169\n",
      "IR         3\n",
      "Name: class, dtype: int64\n"
     ]
    }
   ],
   "source": [
    "print(romney['class'].value_counts())"
   ]
  },
  {
   "cell_type": "markdown",
   "metadata": {},
   "source": [
    "For this notebook, we are only interested in the classes `-1, 0 and 1`. Therefore, we drop all the other classes from the dataframe.<br>\n",
    "We also change the column to be an integer, since the values are a mix of string and integers right now."
   ]
  },
  {
   "cell_type": "code",
   "execution_count": 7,
   "metadata": {},
   "outputs": [
    {
     "name": "stdout",
     "output_type": "stream",
     "text": [
      "-1    2893\n",
      " 0    1680\n",
      " 1    1075\n",
      "Name: class, dtype: int64\n"
     ]
    },
    {
     "data": {
      "text/html": [
       "<div>\n",
       "<style scoped>\n",
       "    .dataframe tbody tr th:only-of-type {\n",
       "        vertical-align: middle;\n",
       "    }\n",
       "\n",
       "    .dataframe tbody tr th {\n",
       "        vertical-align: top;\n",
       "    }\n",
       "\n",
       "    .dataframe thead th {\n",
       "        text-align: right;\n",
       "    }\n",
       "</style>\n",
       "<table border=\"1\" class=\"dataframe\">\n",
       "  <thead>\n",
       "    <tr style=\"text-align: right;\">\n",
       "      <th></th>\n",
       "      <th>tweet</th>\n",
       "      <th>class</th>\n",
       "    </tr>\n",
       "  </thead>\n",
       "  <tbody>\n",
       "    <tr>\n",
       "      <th>1</th>\n",
       "      <td>Insidious!&lt;e&gt;Mitt Romney&lt;/e&gt;'s Bain Helped Phi...</td>\n",
       "      <td>-1</td>\n",
       "    </tr>\n",
       "    <tr>\n",
       "      <th>3</th>\n",
       "      <td>.@WardBrenda @shortwave8669 @allanbourdius you...</td>\n",
       "      <td>-1</td>\n",
       "    </tr>\n",
       "    <tr>\n",
       "      <th>4</th>\n",
       "      <td>&lt;e&gt;Mitt Romney&lt;/e&gt; still doesn't &lt;a&gt;believe&lt;/a...</td>\n",
       "      <td>-1</td>\n",
       "    </tr>\n",
       "    <tr>\n",
       "      <th>5</th>\n",
       "      <td>&lt;e&gt;Romney&lt;/e&gt;'s &lt;a&gt;tax plan&lt;/a&gt; deserves a 2nd...</td>\n",
       "      <td>-1</td>\n",
       "    </tr>\n",
       "    <tr>\n",
       "      <th>6</th>\n",
       "      <td>Hope &lt;e&gt;Romney&lt;/e&gt; debate prepped w/ the same ...</td>\n",
       "      <td>1</td>\n",
       "    </tr>\n",
       "  </tbody>\n",
       "</table>\n",
       "</div>"
      ],
      "text/plain": [
       "                                               tweet  class\n",
       "1  Insidious!<e>Mitt Romney</e>'s Bain Helped Phi...     -1\n",
       "3  .@WardBrenda @shortwave8669 @allanbourdius you...     -1\n",
       "4  <e>Mitt Romney</e> still doesn't <a>believe</a...     -1\n",
       "5  <e>Romney</e>'s <a>tax plan</a> deserves a 2nd...     -1\n",
       "6  Hope <e>Romney</e> debate prepped w/ the same ...      1"
      ]
     },
     "execution_count": 7,
     "metadata": {},
     "output_type": "execute_result"
    }
   ],
   "source": [
    "romney_df = romney[romney['class'].isin(['-1', '0', '1',-1,0,1])].copy(deep=True)\n",
    "romney_df['class']=romney_df['class'].astype(int)\n",
    "print(romney_df['class'].value_counts())\n",
    "romney_df.head(5)"
   ]
  },
  {
   "cell_type": "markdown",
   "metadata": {},
   "source": [
    "Now, we can start working on the actual tweets. The first few steps that we need to perform are cleaning the text itself and tokenizing it.<br>\n",
    "For that, we use 2 functions:"
   ]
  },
  {
   "cell_type": "code",
   "execution_count": 8,
   "metadata": {},
   "outputs": [
    {
     "name": "stderr",
     "output_type": "stream",
     "text": [
      "[nltk_data] Downloading package stopwords to\n",
      "[nltk_data]     C:\\Users\\utsav\\AppData\\Roaming\\nltk_data...\n",
      "[nltk_data]   Package stopwords is already up-to-date!\n"
     ]
    }
   ],
   "source": [
    "def clean(text):\n",
    "    text = text.lower()\n",
    "    text = re.sub(r'@[A-Za-z0-9]+', '', text)\n",
    "    text = re.sub(r'#[A-Za-z0-9]+', '', text)\n",
    "    text = re.sub(r'https?://[A-Za-z0-9./]+', '', text)\n",
    "    text = re.sub(r'www.[^ ]+', '', text)\n",
    "    text = re.sub(r'[^a-z]', ' ', text)\n",
    "    text = re.sub(r' +', ' ', text)\n",
    "    return text\n",
    "\n",
    "regexp = RegexpTokenizer('\\w+')\n",
    "\n",
    "nltk.download('stopwords')\n",
    "\n",
    "def tokenize(text):\n",
    "    stop_words = stopwords.words('english')\n",
    "    text = clean(text)\n",
    "    text = regexp.tokenize(text)\n",
    "    text = [w for w in text if w not in stop_words]\n",
    "    return text"
   ]
  },
  {
   "cell_type": "markdown",
   "metadata": {},
   "source": [
    "The code cell below performs the task of going through our dataset, cleaning and tokenizing every tweet."
   ]
  },
  {
   "cell_type": "code",
   "execution_count": 9,
   "metadata": {},
   "outputs": [],
   "source": [
    "romney_df['tweet_token'] = romney_df['tweet'].apply(lambda stext: tokenize(str(stext)))"
   ]
  },
  {
   "cell_type": "markdown",
   "metadata": {},
   "source": [
    "We then remove the words that are less than 2 characters, and appear less than 2 times, since those are most likely noise and would not contribute anything to our dataset."
   ]
  },
  {
   "cell_type": "code",
   "execution_count": 10,
   "metadata": {},
   "outputs": [],
   "source": [
    "#remove words with length less than 2\n",
    "romney_df['tweet_string'] = romney_df['tweet_token'].apply(lambda x:' '.join([item for item in x if len(item)>2]))\n",
    "#Find a frequency distribution, and remove words with frequency less than 1\n",
    "all_words = ' '.join([text for text in romney_df['tweet_string']])\n",
    "tokenized_romney_df = nltk.tokenize.word_tokenize(all_words)\n",
    "fdist = FreqDist(tokenized_romney_df)\n",
    "romney_df['tweet_string_fdist'] = romney_df['tweet_token'].apply(lambda x: ' '.join([item for item in x if fdist[item] > 1 ]))"
   ]
  },
  {
   "cell_type": "markdown",
   "metadata": {},
   "source": [
    "Now we have to perform the important task of Lemmatizing our dataset. To do this, we use `WordNetLemmatizer` with `Parts-Of-Speech tags`."
   ]
  },
  {
   "cell_type": "code",
   "execution_count": 11,
   "metadata": {},
   "outputs": [
    {
     "name": "stderr",
     "output_type": "stream",
     "text": [
      "[nltk_data] Downloading package averaged_perceptron_tagger to\n",
      "[nltk_data]     C:\\Users\\utsav\\AppData\\Roaming\\nltk_data...\n",
      "[nltk_data]   Package averaged_perceptron_tagger is already up-to-\n",
      "[nltk_data]       date!\n"
     ]
    }
   ],
   "source": [
    "nltk.download('averaged_perceptron_tagger')\n",
    "\n",
    "lemmatizer = WordNetLemmatizer()\n",
    "def pos_tagger(nltk_tag):\n",
    "    if nltk_tag.startswith('J'):\n",
    "        return wordnet.ADJ\n",
    "    elif nltk_tag.startswith('V'):\n",
    "        return wordnet.VERB\n",
    "    elif nltk_tag.startswith('N'):\n",
    "        return wordnet.NOUN\n",
    "    elif nltk_tag.startswith('R'):\n",
    "        return wordnet.ADV\n",
    "    else:          \n",
    "        return None\n",
    "\n",
    "def lemmatiser(text):\n",
    "    nltk_tagged = nltk.pos_tag(nltk.word_tokenize(text))  \n",
    "    wordnet_tagged = map(lambda x: (x[0], pos_tagger(x[1])), nltk_tagged)\n",
    "    lemmatized_sentence = []\n",
    "    for word, tag in wordnet_tagged:\n",
    "        if tag is None:\n",
    "            lemmatized_sentence.append(word)\n",
    "        else:        \n",
    "            lemmatized_sentence.append(lemmatizer.lemmatize(word, tag))\n",
    "    return \" \".join(lemmatized_sentence)"
   ]
  },
  {
   "cell_type": "markdown",
   "metadata": {},
   "source": [
    "Applying this to our dataset:"
   ]
  },
  {
   "cell_type": "code",
   "execution_count": 12,
   "metadata": {},
   "outputs": [
    {
     "data": {
      "text/html": [
       "<div>\n",
       "<style scoped>\n",
       "    .dataframe tbody tr th:only-of-type {\n",
       "        vertical-align: middle;\n",
       "    }\n",
       "\n",
       "    .dataframe tbody tr th {\n",
       "        vertical-align: top;\n",
       "    }\n",
       "\n",
       "    .dataframe thead th {\n",
       "        text-align: right;\n",
       "    }\n",
       "</style>\n",
       "<table border=\"1\" class=\"dataframe\">\n",
       "  <thead>\n",
       "    <tr style=\"text-align: right;\">\n",
       "      <th></th>\n",
       "      <th>tweet</th>\n",
       "      <th>class</th>\n",
       "      <th>tweet_token</th>\n",
       "      <th>tweet_string</th>\n",
       "      <th>tweet_string_fdist</th>\n",
       "    </tr>\n",
       "  </thead>\n",
       "  <tbody>\n",
       "    <tr>\n",
       "      <th>1</th>\n",
       "      <td>mitt romney bain help philip morris get high s...</td>\n",
       "      <td>-1</td>\n",
       "      <td>[insidious, e, mitt, romney, e, bain, helped, ...</td>\n",
       "      <td>insidious mitt romney bain helped philip morri...</td>\n",
       "      <td>mitt romney bain helped philip morris get high...</td>\n",
       "    </tr>\n",
       "    <tr>\n",
       "      <th>3</th>\n",
       "      <td>mean like romney cheat primary</td>\n",
       "      <td>-1</td>\n",
       "      <td>[mean, like, e, romney, e, cheated, primary]</td>\n",
       "      <td>mean like romney cheated primary</td>\n",
       "      <td>mean like romney cheated primary</td>\n",
       "    </tr>\n",
       "    <tr>\n",
       "      <th>4</th>\n",
       "      <td>mitt romney still believe black president</td>\n",
       "      <td>-1</td>\n",
       "      <td>[e, mitt, romney, e, still, believe, black, pr...</td>\n",
       "      <td>mitt romney still believe black president</td>\n",
       "      <td>mitt romney still believe black president</td>\n",
       "    </tr>\n",
       "    <tr>\n",
       "      <th>5</th>\n",
       "      <td>romney tax plan deserve look secret one differ...</td>\n",
       "      <td>-1</td>\n",
       "      <td>[e, romney, e, tax, plan, deserves, nd, look, ...</td>\n",
       "      <td>romney tax plan deserves look secret one diffe...</td>\n",
       "      <td>romney tax plan deserves look secret one diffe...</td>\n",
       "    </tr>\n",
       "    <tr>\n",
       "      <th>6</th>\n",
       "      <td>hope romney debate people last time</td>\n",
       "      <td>1</td>\n",
       "      <td>[hope, e, romney, e, debate, prepped, w, peopl...</td>\n",
       "      <td>hope romney debate prepped people last time</td>\n",
       "      <td>hope romney debate people last time</td>\n",
       "    </tr>\n",
       "  </tbody>\n",
       "</table>\n",
       "</div>"
      ],
      "text/plain": [
       "                                               tweet  class  \\\n",
       "1  mitt romney bain help philip morris get high s...     -1   \n",
       "3                     mean like romney cheat primary     -1   \n",
       "4          mitt romney still believe black president     -1   \n",
       "5  romney tax plan deserve look secret one differ...     -1   \n",
       "6                hope romney debate people last time      1   \n",
       "\n",
       "                                         tweet_token  \\\n",
       "1  [insidious, e, mitt, romney, e, bain, helped, ...   \n",
       "3       [mean, like, e, romney, e, cheated, primary]   \n",
       "4  [e, mitt, romney, e, still, believe, black, pr...   \n",
       "5  [e, romney, e, tax, plan, deserves, nd, look, ...   \n",
       "6  [hope, e, romney, e, debate, prepped, w, peopl...   \n",
       "\n",
       "                                        tweet_string  \\\n",
       "1  insidious mitt romney bain helped philip morri...   \n",
       "3                   mean like romney cheated primary   \n",
       "4          mitt romney still believe black president   \n",
       "5  romney tax plan deserves look secret one diffe...   \n",
       "6        hope romney debate prepped people last time   \n",
       "\n",
       "                                  tweet_string_fdist  \n",
       "1  mitt romney bain helped philip morris get high...  \n",
       "3                   mean like romney cheated primary  \n",
       "4          mitt romney still believe black president  \n",
       "5  romney tax plan deserves look secret one diffe...  \n",
       "6                hope romney debate people last time  "
      ]
     },
     "execution_count": 12,
     "metadata": {},
     "output_type": "execute_result"
    }
   ],
   "source": [
    "romney_df['tweet'] = romney_df['tweet_string_fdist'].apply(lambda x: lemmatiser(x))\n",
    "romney_df.head(5)"
   ]
  },
  {
   "cell_type": "markdown",
   "metadata": {},
   "source": [
    "We can drop the columns `tweet_token`, `tweet_string` and `tweet_string_fdist` now.<br>\n",
    "We also remove the null values, to make sure that we do not have any empty records left after the previous steps."
   ]
  },
  {
   "cell_type": "code",
   "execution_count": 13,
   "metadata": {},
   "outputs": [
    {
     "name": "stdout",
     "output_type": "stream",
     "text": [
      "(5648, 2)\n"
     ]
    },
    {
     "data": {
      "text/html": [
       "<div>\n",
       "<style scoped>\n",
       "    .dataframe tbody tr th:only-of-type {\n",
       "        vertical-align: middle;\n",
       "    }\n",
       "\n",
       "    .dataframe tbody tr th {\n",
       "        vertical-align: top;\n",
       "    }\n",
       "\n",
       "    .dataframe thead th {\n",
       "        text-align: right;\n",
       "    }\n",
       "</style>\n",
       "<table border=\"1\" class=\"dataframe\">\n",
       "  <thead>\n",
       "    <tr style=\"text-align: right;\">\n",
       "      <th></th>\n",
       "      <th>tweet</th>\n",
       "      <th>class</th>\n",
       "    </tr>\n",
       "  </thead>\n",
       "  <tbody>\n",
       "    <tr>\n",
       "      <th>1</th>\n",
       "      <td>mitt romney bain help philip morris get high s...</td>\n",
       "      <td>-1</td>\n",
       "    </tr>\n",
       "    <tr>\n",
       "      <th>3</th>\n",
       "      <td>mean like romney cheat primary</td>\n",
       "      <td>-1</td>\n",
       "    </tr>\n",
       "    <tr>\n",
       "      <th>4</th>\n",
       "      <td>mitt romney still believe black president</td>\n",
       "      <td>-1</td>\n",
       "    </tr>\n",
       "    <tr>\n",
       "      <th>5</th>\n",
       "      <td>romney tax plan deserve look secret one differ...</td>\n",
       "      <td>-1</td>\n",
       "    </tr>\n",
       "    <tr>\n",
       "      <th>6</th>\n",
       "      <td>hope romney debate people last time</td>\n",
       "      <td>1</td>\n",
       "    </tr>\n",
       "  </tbody>\n",
       "</table>\n",
       "</div>"
      ],
      "text/plain": [
       "                                               tweet  class\n",
       "1  mitt romney bain help philip morris get high s...     -1\n",
       "3                     mean like romney cheat primary     -1\n",
       "4          mitt romney still believe black president     -1\n",
       "5  romney tax plan deserve look secret one differ...     -1\n",
       "6                hope romney debate people last time      1"
      ]
     },
     "execution_count": 13,
     "metadata": {},
     "output_type": "execute_result"
    }
   ],
   "source": [
    "romney_df = romney_df.drop(['tweet_token', 'tweet_string', 'tweet_string_fdist'], axis=1)\n",
    "romney_df.dropna(inplace=True)\n",
    "print(romney_df.shape)\n",
    "romney_df.head(5)"
   ]
  },
  {
   "cell_type": "markdown",
   "metadata": {},
   "source": [
    "We can now take a look at the distribution of the classes in our dataset:"
   ]
  },
  {
   "cell_type": "code",
   "execution_count": 14,
   "metadata": {},
   "outputs": [
    {
     "name": "stdout",
     "output_type": "stream",
     "text": [
      "-1    2893\n",
      " 0    1680\n",
      " 1    1075\n",
      "Name: class, dtype: int64\n"
     ]
    }
   ],
   "source": [
    "print(romney_df['class'].value_counts())"
   ]
  },
  {
   "cell_type": "code",
   "execution_count": 15,
   "metadata": {},
   "outputs": [
    {
     "data": {
      "image/png": "[encoded data removed]",
      "text/plain": [
       "<Figure size 1000x600 with 1 Axes>"
      ]
     },
     "metadata": {},
     "output_type": "display_data"
    }
   ],
   "source": [
    "class_counts = romney_df['class'].value_counts()\n",
    "\n",
    "plt.figure(figsize=(10,6))\n",
    "sns.barplot(x=class_counts.index, y=class_counts.values, alpha=0.8)\n",
    "\n",
    "plt.title('Number of Tweets by Class')\n",
    "plt.ylabel('Number of Tweets', fontsize=12)\n",
    "plt.xlabel('Class', fontsize=12)\n",
    "\n",
    "plt.show()"
   ]
  },
  {
   "cell_type": "markdown",
   "metadata": {},
   "source": [
    "## Creating train and test data splits"
   ]
  },
  {
   "cell_type": "markdown",
   "metadata": {},
   "source": [
    "Our data is now ready for processing. To train and test our models, we will perform a train-test-split of 80-20."
   ]
  },
  {
   "cell_type": "code",
   "execution_count": 16,
   "metadata": {},
   "outputs": [],
   "source": [
    "df_X = romney_df['tweet']\n",
    "df_Y = romney_df['class']\n",
    "X_train, X_test, y_train, y_test = train_test_split(df_X,df_Y,test_size=0.2,random_state = 1551)"
   ]
  },
  {
   "cell_type": "markdown",
   "metadata": {},
   "source": [
    "## Vectorization<br>\n",
    "___"
   ]
  },
  {
   "cell_type": "markdown",
   "metadata": {},
   "source": [
    "### TF-IDF Vectorization"
   ]
  },
  {
   "cell_type": "markdown",
   "metadata": {},
   "source": [
    "We will use `TfidfVectorizer` from `sklearn`."
   ]
  },
  {
   "cell_type": "code",
   "execution_count": 17,
   "metadata": {},
   "outputs": [],
   "source": [
    "tfidf_vectorizer = TfidfVectorizer(use_idf=True, ngram_range=(1,2))\n",
    "X_train_vectors_tfidf = tfidf_vectorizer.fit_transform(X_train)\n",
    "X_test_vectors_tfidf = tfidf_vectorizer.transform(X_test)"
   ]
  },
  {
   "cell_type": "markdown",
   "metadata": {},
   "source": [
    "### Word2Vec"
   ]
  },
  {
   "cell_type": "markdown",
   "metadata": {},
   "source": [
    "We will also try using `Word2Vec` from `gensim`."
   ]
  },
  {
   "cell_type": "code",
   "execution_count": 18,
   "metadata": {},
   "outputs": [],
   "source": [
    "X_train_tok= [nltk.word_tokenize(i) for i in X_train]  \n",
    "X_test_tok= [nltk.word_tokenize(i) for i in X_test]"
   ]
  },
  {
   "cell_type": "code",
   "execution_count": 19,
   "metadata": {},
   "outputs": [],
   "source": [
    "#building Word2Vec model\n",
    "class MeanEmbeddingVectorizer(object):\n",
    "    def __init__(self, word2vec):\n",
    "        self.word2vec = word2vec\n",
    "        # if a text is empty we should return a vector of zeros\n",
    "        # with the same dimensionality as all the other vectors\n",
    "        self.dim = len(next(iter(word2vec.values())))\n",
    "    def fit(self, X, y):\n",
    "        return self\n",
    "    def transform(self, X):\n",
    "        return np.array([\n",
    "            np.mean([self.word2vec[w] for w in words if w in self.word2vec]\n",
    "                    or [np.zeros(self.dim)], axis=0)\n",
    "            for words in X\n",
    "        ])\n",
    "\n",
    "romney_df['tweet_w2v_token']=[nltk.word_tokenize(i) for i in romney_df['tweet']] \n",
    "model = Word2Vec(romney_df['tweet_w2v_token'],min_count=1) \n",
    "w2v = dict(zip(model.wv.index_to_key , model.wv.vectors))   \n",
    "modelw = MeanEmbeddingVectorizer(w2v)\n",
    "X_train_vectors_w2v = modelw.fit(X_train_tok,y_train)\n",
    "X_train_vectors_w2v = modelw.transform(X_train_tok)\n",
    "X_test_vectors_w2v = modelw.transform(X_test_tok)\n",
    "romney_df.drop(['tweet_w2v_token'], axis=1, inplace=True)"
   ]
  },
  {
   "cell_type": "markdown",
   "metadata": {},
   "source": [
    "To make sure that the negative numbers produced by this do not trip up our models, we use `MinMaxScaler` to normalize the values between 0 and 1."
   ]
  },
  {
   "cell_type": "code",
   "execution_count": 20,
   "metadata": {},
   "outputs": [],
   "source": [
    "scaler = MinMaxScaler()\n",
    "X_train_vectors_w2v = scaler.fit_transform(X_train_vectors_w2v)\n",
    "X_test_vectors_w2v = scaler.transform(X_test_vectors_w2v)"
   ]
  },
  {
   "cell_type": "markdown",
   "metadata": {},
   "source": [
    "Now, we are ready to create and test on our models."
   ]
  },
  {
   "cell_type": "markdown",
   "metadata": {},
   "source": [
    "## Supervised Learning:<br>\n",
    "___"
   ]
  },
  {
   "cell_type": "markdown",
   "metadata": {},
   "source": [
    "Before we start running our models, to make things easier, we will create a dataframe to keep a track of our performance metrics."
   ]
  },
  {
   "cell_type": "code",
   "execution_count": 21,
   "metadata": {},
   "outputs": [],
   "source": [
    "performance = pd.DataFrame(columns=['Model','Vectorization','Accuracy', 'Precision', 'Recall', 'F1 Score'])"
   ]
  },
  {
   "cell_type": "markdown",
   "metadata": {},
   "source": [
    "To make things even easier, I have written a small function to store our metrics in the dataframe."
   ]
  },
  {
   "cell_type": "code",
   "execution_count": 22,
   "metadata": {},
   "outputs": [],
   "source": [
    "def write_metrics(model_name,vector_name,test,predictions):\n",
    "    global performance\n",
    "    new_data = {'Model': model_name,\n",
    "                'Vectorization': vector_name,\n",
    "                'Accuracy': round(accuracy_score(test,predictions),4),\n",
    "                'Precision': round(precision_score(test,predictions, average='weighted'),4),\n",
    "                'Recall': round(recall_score(test,predictions, average='weighted'),4),\n",
    "                'F1 Score': round(f1_score(test,predictions, average='weighted'),4)}\n",
    "    performance = performance.append(new_data, ignore_index=True)"
   ]
  },
  {
   "cell_type": "markdown",
   "metadata": {},
   "source": [
    "### Model 1: Logistic Regression"
   ]
  },
  {
   "cell_type": "markdown",
   "metadata": {},
   "source": [
    "##### TF-IDF"
   ]
  },
  {
   "cell_type": "code",
   "execution_count": 23,
   "metadata": {},
   "outputs": [
    {
     "name": "stdout",
     "output_type": "stream",
     "text": [
      "              precision    recall  f1-score   support\n",
      "\n",
      "          -1       0.63      0.78      0.70       579\n",
      "           0       0.46      0.38      0.42       333\n",
      "           1       0.53      0.34      0.41       218\n",
      "\n",
      "    accuracy                           0.58      1130\n",
      "   macro avg       0.54      0.50      0.51      1130\n",
      "weighted avg       0.56      0.58      0.56      1130\n",
      "\n"
     ]
    },
    {
     "name": "stderr",
     "output_type": "stream",
     "text": [
      "C:\\Users\\utsav\\AppData\\Local\\Temp\\ipykernel_35920\\2285202385.py:9: FutureWarning: The frame.append method is deprecated and will be removed from pandas in a future version. Use pandas.concat instead.\n",
      "  performance = performance.append(new_data, ignore_index=True)\n"
     ]
    }
   ],
   "source": [
    "lr_model_tfidf = LogisticRegression(solver='saga',C=5,penalty='l2',random_state=44) #4=57%\n",
    "lr_model_tfidf.fit(X_train_vectors_tfidf, y_train)\n",
    "lr_tfidf_y_pred = lr_model_tfidf.predict(X_test_vectors_tfidf)\n",
    "print(classification_report(y_test,lr_tfidf_y_pred))\n",
    "write_metrics('Logistic Regression','TF-IDF',y_test,lr_tfidf_y_pred)"
   ]
  },
  {
   "cell_type": "markdown",
   "metadata": {},
   "source": [
    "##### Word2Vec:"
   ]
  },
  {
   "cell_type": "code",
   "execution_count": 24,
   "metadata": {},
   "outputs": [
    {
     "name": "stdout",
     "output_type": "stream",
     "text": [
      "              precision    recall  f1-score   support\n",
      "\n",
      "          -1       0.54      0.92      0.68       579\n",
      "           0       0.44      0.16      0.23       333\n",
      "           1       0.55      0.05      0.09       218\n",
      "\n",
      "    accuracy                           0.53      1130\n",
      "   macro avg       0.51      0.38      0.33      1130\n",
      "weighted avg       0.51      0.53      0.43      1130\n",
      "\n"
     ]
    },
    {
     "name": "stderr",
     "output_type": "stream",
     "text": [
      "C:\\Users\\utsav\\AppData\\Local\\Temp\\ipykernel_35920\\2285202385.py:9: FutureWarning: The frame.append method is deprecated and will be removed from pandas in a future version. Use pandas.concat instead.\n",
      "  performance = performance.append(new_data, ignore_index=True)\n"
     ]
    }
   ],
   "source": [
    "lr_model_w2v = LogisticRegression(solver='liblinear',C=10,penalty='l2',random_state=4) #4=57%\n",
    "lr_model_w2v.fit(X_train_vectors_w2v, y_train)\n",
    "lr_w2v_y_pred = lr_model_w2v.predict(X_test_vectors_w2v)\n",
    "print(classification_report(y_test,lr_w2v_y_pred))\n",
    "write_metrics('Logistic Regression','Word2Vec',y_test,lr_w2v_y_pred)"
   ]
  },
  {
   "cell_type": "markdown",
   "metadata": {},
   "source": [
    "### Model 2: Naive Bayes"
   ]
  },
  {
   "cell_type": "markdown",
   "metadata": {},
   "source": [
    "##### TF-IDF:"
   ]
  },
  {
   "cell_type": "code",
   "execution_count": 25,
   "metadata": {},
   "outputs": [
    {
     "name": "stdout",
     "output_type": "stream",
     "text": [
      "              precision    recall  f1-score   support\n",
      "\n",
      "          -1       0.54      0.97      0.69       579\n",
      "           0       0.60      0.12      0.20       333\n",
      "           1       0.72      0.10      0.17       218\n",
      "\n",
      "    accuracy                           0.55      1130\n",
      "   macro avg       0.62      0.40      0.36      1130\n",
      "weighted avg       0.60      0.55      0.45      1130\n",
      "\n"
     ]
    },
    {
     "name": "stderr",
     "output_type": "stream",
     "text": [
      "C:\\Users\\utsav\\AppData\\Local\\Temp\\ipykernel_35920\\2285202385.py:9: FutureWarning: The frame.append method is deprecated and will be removed from pandas in a future version. Use pandas.concat instead.\n",
      "  performance = performance.append(new_data, ignore_index=True)\n"
     ]
    }
   ],
   "source": [
    "nb_tfidf_model = MultinomialNB()\n",
    "nb_tfidf_model.fit(X_train_vectors_tfidf, y_train)\n",
    "nb_tfidf_y_pred = nb_tfidf_model.predict(X_test_vectors_tfidf)\n",
    "print(classification_report(y_test,nb_tfidf_y_pred))\n",
    "write_metrics('Naive Bayes','TF-IDF',y_test,nb_tfidf_y_pred)"
   ]
  },
  {
   "cell_type": "markdown",
   "metadata": {},
   "source": [
    "##### Word2Vec:"
   ]
  },
  {
   "cell_type": "code",
   "execution_count": 26,
   "metadata": {},
   "outputs": [
    {
     "name": "stdout",
     "output_type": "stream",
     "text": [
      "              precision    recall  f1-score   support\n",
      "\n",
      "          -1       0.51      0.99      0.68       579\n",
      "           0       0.00      0.00      0.00       333\n",
      "           1       0.27      0.01      0.03       218\n",
      "\n",
      "    accuracy                           0.51      1130\n",
      "   macro avg       0.26      0.34      0.23      1130\n",
      "weighted avg       0.32      0.51      0.35      1130\n",
      "\n"
     ]
    },
    {
     "name": "stderr",
     "output_type": "stream",
     "text": [
      "c:\\Users\\utsav\\anaconda3\\envs\\CS418\\lib\\site-packages\\sklearn\\metrics\\_classification.py:1344: UndefinedMetricWarning: Precision and F-score are ill-defined and being set to 0.0 in labels with no predicted samples. Use `zero_division` parameter to control this behavior.\n",
      "  _warn_prf(average, modifier, msg_start, len(result))\n",
      "c:\\Users\\utsav\\anaconda3\\envs\\CS418\\lib\\site-packages\\sklearn\\metrics\\_classification.py:1344: UndefinedMetricWarning: Precision and F-score are ill-defined and being set to 0.0 in labels with no predicted samples. Use `zero_division` parameter to control this behavior.\n",
      "  _warn_prf(average, modifier, msg_start, len(result))\n",
      "c:\\Users\\utsav\\anaconda3\\envs\\CS418\\lib\\site-packages\\sklearn\\metrics\\_classification.py:1344: UndefinedMetricWarning: Precision and F-score are ill-defined and being set to 0.0 in labels with no predicted samples. Use `zero_division` parameter to control this behavior.\n",
      "  _warn_prf(average, modifier, msg_start, len(result))\n",
      "c:\\Users\\utsav\\anaconda3\\envs\\CS418\\lib\\site-packages\\sklearn\\metrics\\_classification.py:1344: UndefinedMetricWarning: Precision is ill-defined and being set to 0.0 in labels with no predicted samples. Use `zero_division` parameter to control this behavior.\n",
      "  _warn_prf(average, modifier, msg_start, len(result))\n",
      "C:\\Users\\utsav\\AppData\\Local\\Temp\\ipykernel_35920\\2285202385.py:9: FutureWarning: The frame.append method is deprecated and will be removed from pandas in a future version. Use pandas.concat instead.\n",
      "  performance = performance.append(new_data, ignore_index=True)\n"
     ]
    }
   ],
   "source": [
    "nb_w2v_model = MultinomialNB()\n",
    "nb_w2v_model.fit(X_train_vectors_w2v, y_train)\n",
    "nb_w2v_y_pred = nb_w2v_model.predict(X_test_vectors_w2v)\n",
    "print(classification_report(y_test,nb_w2v_y_pred))\n",
    "write_metrics('Naive Bayes','Word2Vec',y_test,nb_w2v_y_pred)"
   ]
  },
  {
   "cell_type": "markdown",
   "metadata": {},
   "source": [
    "### Model 3: SVM"
   ]
  },
  {
   "cell_type": "markdown",
   "metadata": {},
   "source": [
    "##### TF-IDF:"
   ]
  },
  {
   "cell_type": "code",
   "execution_count": 27,
   "metadata": {},
   "outputs": [
    {
     "name": "stdout",
     "output_type": "stream",
     "text": [
      "              precision    recall  f1-score   support\n",
      "\n",
      "          -1       0.62      0.81      0.70       579\n",
      "           0       0.49      0.35      0.40       333\n",
      "           1       0.52      0.32      0.39       218\n",
      "\n",
      "    accuracy                           0.58      1130\n",
      "   macro avg       0.54      0.49      0.50      1130\n",
      "weighted avg       0.56      0.58      0.56      1130\n",
      "\n"
     ]
    },
    {
     "name": "stderr",
     "output_type": "stream",
     "text": [
      "C:\\Users\\utsav\\AppData\\Local\\Temp\\ipykernel_35920\\2285202385.py:9: FutureWarning: The frame.append method is deprecated and will be removed from pandas in a future version. Use pandas.concat instead.\n",
      "  performance = performance.append(new_data, ignore_index=True)\n"
     ]
    }
   ],
   "source": [
    "svm_tfidf_model = svm.SVC(kernel='linear', random_state=1564)\n",
    "svm_tfidf_model.fit(X_train_vectors_tfidf, y_train)\n",
    "svm_tfidf_y_pred = svm_tfidf_model.predict(X_test_vectors_tfidf)\n",
    "print(classification_report(y_test,svm_tfidf_y_pred))\n",
    "write_metrics('SVM','TF-IDF',y_test,svm_tfidf_y_pred)"
   ]
  },
  {
   "cell_type": "markdown",
   "metadata": {},
   "source": [
    "##### Word2Vec:"
   ]
  },
  {
   "cell_type": "code",
   "execution_count": 28,
   "metadata": {},
   "outputs": [
    {
     "name": "stdout",
     "output_type": "stream",
     "text": [
      "              precision    recall  f1-score   support\n",
      "\n",
      "          -1       0.51      1.00      0.68       579\n",
      "           0       0.00      0.00      0.00       333\n",
      "           1       0.00      0.00      0.00       218\n",
      "\n",
      "    accuracy                           0.51      1130\n",
      "   macro avg       0.17      0.33      0.23      1130\n",
      "weighted avg       0.26      0.51      0.35      1130\n",
      "\n"
     ]
    },
    {
     "name": "stderr",
     "output_type": "stream",
     "text": [
      "c:\\Users\\utsav\\anaconda3\\envs\\CS418\\lib\\site-packages\\sklearn\\metrics\\_classification.py:1344: UndefinedMetricWarning: Precision and F-score are ill-defined and being set to 0.0 in labels with no predicted samples. Use `zero_division` parameter to control this behavior.\n",
      "  _warn_prf(average, modifier, msg_start, len(result))\n",
      "c:\\Users\\utsav\\anaconda3\\envs\\CS418\\lib\\site-packages\\sklearn\\metrics\\_classification.py:1344: UndefinedMetricWarning: Precision and F-score are ill-defined and being set to 0.0 in labels with no predicted samples. Use `zero_division` parameter to control this behavior.\n",
      "  _warn_prf(average, modifier, msg_start, len(result))\n",
      "c:\\Users\\utsav\\anaconda3\\envs\\CS418\\lib\\site-packages\\sklearn\\metrics\\_classification.py:1344: UndefinedMetricWarning: Precision and F-score are ill-defined and being set to 0.0 in labels with no predicted samples. Use `zero_division` parameter to control this behavior.\n",
      "  _warn_prf(average, modifier, msg_start, len(result))\n",
      "c:\\Users\\utsav\\anaconda3\\envs\\CS418\\lib\\site-packages\\sklearn\\metrics\\_classification.py:1344: UndefinedMetricWarning: Precision is ill-defined and being set to 0.0 in labels with no predicted samples. Use `zero_division` parameter to control this behavior.\n",
      "  _warn_prf(average, modifier, msg_start, len(result))\n",
      "C:\\Users\\utsav\\AppData\\Local\\Temp\\ipykernel_35920\\2285202385.py:9: FutureWarning: The frame.append method is deprecated and will be removed from pandas in a future version. Use pandas.concat instead.\n",
      "  performance = performance.append(new_data, ignore_index=True)\n"
     ]
    }
   ],
   "source": [
    "svm_w2v_model = svm.SVC(kernel='linear', random_state=4)\n",
    "svm_w2v_model.fit(X_train_vectors_w2v, y_train)\n",
    "svm_w2v_y_pred = svm_w2v_model.predict(X_test_vectors_w2v)\n",
    "print(classification_report(y_test,svm_w2v_y_pred))\n",
    "write_metrics('SVM','Word2Vec',y_test,svm_w2v_y_pred)"
   ]
  },
  {
   "cell_type": "markdown",
   "metadata": {},
   "source": [
    "### Model 4: KNN"
   ]
  },
  {
   "cell_type": "markdown",
   "metadata": {},
   "source": [
    "##### TF-IDF:"
   ]
  },
  {
   "cell_type": "code",
   "execution_count": 29,
   "metadata": {},
   "outputs": [
    {
     "name": "stdout",
     "output_type": "stream",
     "text": [
      "              precision    recall  f1-score   support\n",
      "\n",
      "          -1       0.56      0.84      0.67       579\n",
      "           0       0.40      0.21      0.27       333\n",
      "           1       0.42      0.17      0.24       218\n",
      "\n",
      "    accuracy                           0.52      1130\n",
      "   macro avg       0.46      0.40      0.39      1130\n",
      "weighted avg       0.48      0.52      0.47      1130\n",
      "\n"
     ]
    },
    {
     "name": "stderr",
     "output_type": "stream",
     "text": [
      "C:\\Users\\utsav\\AppData\\Local\\Temp\\ipykernel_35920\\2285202385.py:9: FutureWarning: The frame.append method is deprecated and will be removed from pandas in a future version. Use pandas.concat instead.\n",
      "  performance = performance.append(new_data, ignore_index=True)\n"
     ]
    }
   ],
   "source": [
    "knn_tfidf = KNeighborsClassifier()#create a dictionary of all values we want to test for n_neighbors\n",
    "param_grid = {'n_neighbors': np.arange(1, 25)}#use gridsearch to test all values for n_neighbors\n",
    "knn_tfidf_gscv = GridSearchCV(knn_tfidf, param_grid, cv=5)#fit model to data\n",
    "clf = knn_tfidf_gscv.fit(X_train_vectors_tfidf, y_train)\n",
    "knn_tfidf_y_pred = clf.predict(X_test_vectors_tfidf)\n",
    "print(classification_report(y_test,knn_tfidf_y_pred))\n",
    "write_metrics('KNN','TF-IDF',y_test,knn_tfidf_y_pred)"
   ]
  },
  {
   "cell_type": "markdown",
   "metadata": {},
   "source": [
    "#### Word2Vec:"
   ]
  },
  {
   "cell_type": "code",
   "execution_count": 30,
   "metadata": {},
   "outputs": [
    {
     "name": "stdout",
     "output_type": "stream",
     "text": [
      "              precision    recall  f1-score   support\n",
      "\n",
      "          -1       0.53      0.91      0.67       579\n",
      "           0       0.36      0.12      0.18       333\n",
      "           1       0.29      0.03      0.05       218\n",
      "\n",
      "    accuracy                           0.51      1130\n",
      "   macro avg       0.39      0.35      0.30      1130\n",
      "weighted avg       0.43      0.51      0.41      1130\n",
      "\n"
     ]
    },
    {
     "name": "stderr",
     "output_type": "stream",
     "text": [
      "C:\\Users\\utsav\\AppData\\Local\\Temp\\ipykernel_35920\\2285202385.py:9: FutureWarning: The frame.append method is deprecated and will be removed from pandas in a future version. Use pandas.concat instead.\n",
      "  performance = performance.append(new_data, ignore_index=True)\n"
     ]
    }
   ],
   "source": [
    "knn_w2v = KNeighborsClassifier()#create a dictionary of all values we want to test for n_neighbors\n",
    "param_grid = {'n_neighbors': np.arange(1, 25)}#use gridsearch to test all values for n_neighbors\n",
    "knn_w2v_gscv = GridSearchCV(knn_w2v, param_grid, cv=5)#fit model to data\n",
    "clf_w2v = knn_w2v_gscv.fit(X_train_vectors_w2v, y_train)\n",
    "knn_w2v_y_pred = clf_w2v.predict(X_test_vectors_w2v)\n",
    "print(classification_report(y_test,knn_w2v_y_pred))\n",
    "write_metrics('KNN','Word2Vec',y_test,knn_w2v_y_pred)"
   ]
  },
  {
   "cell_type": "code",
   "execution_count": 31,
   "metadata": {},
   "outputs": [
    {
     "data": {
      "text/html": [
       "<div>\n",
       "<style scoped>\n",
       "    .dataframe tbody tr th:only-of-type {\n",
       "        vertical-align: middle;\n",
       "    }\n",
       "\n",
       "    .dataframe tbody tr th {\n",
       "        vertical-align: top;\n",
       "    }\n",
       "\n",
       "    .dataframe thead th {\n",
       "        text-align: right;\n",
       "    }\n",
       "</style>\n",
       "<table border=\"1\" class=\"dataframe\">\n",
       "  <thead>\n",
       "    <tr style=\"text-align: right;\">\n",
       "      <th></th>\n",
       "      <th>Model</th>\n",
       "      <th>Vectorization</th>\n",
       "      <th>Accuracy</th>\n",
       "      <th>Precision</th>\n",
       "      <th>Recall</th>\n",
       "      <th>F1 Score</th>\n",
       "    </tr>\n",
       "  </thead>\n",
       "  <tbody>\n",
       "    <tr>\n",
       "      <th>0</th>\n",
       "      <td>Logistic Regression</td>\n",
       "      <td>TF-IDF</td>\n",
       "      <td>0.5779</td>\n",
       "      <td>0.5617</td>\n",
       "      <td>0.5779</td>\n",
       "      <td>0.5605</td>\n",
       "    </tr>\n",
       "    <tr>\n",
       "      <th>1</th>\n",
       "      <td>Logistic Regression</td>\n",
       "      <td>Word2Vec</td>\n",
       "      <td>0.5265</td>\n",
       "      <td>0.5116</td>\n",
       "      <td>0.5265</td>\n",
       "      <td>0.4327</td>\n",
       "    </tr>\n",
       "    <tr>\n",
       "      <th>2</th>\n",
       "      <td>Naive Bayes</td>\n",
       "      <td>TF-IDF</td>\n",
       "      <td>0.5504</td>\n",
       "      <td>0.5952</td>\n",
       "      <td>0.5504</td>\n",
       "      <td>0.4491</td>\n",
       "    </tr>\n",
       "    <tr>\n",
       "      <th>3</th>\n",
       "      <td>Naive Bayes</td>\n",
       "      <td>Word2Vec</td>\n",
       "      <td>0.5106</td>\n",
       "      <td>0.3154</td>\n",
       "      <td>0.5106</td>\n",
       "      <td>0.3515</td>\n",
       "    </tr>\n",
       "    <tr>\n",
       "      <th>4</th>\n",
       "      <td>SVM</td>\n",
       "      <td>TF-IDF</td>\n",
       "      <td>0.5796</td>\n",
       "      <td>0.5612</td>\n",
       "      <td>0.5796</td>\n",
       "      <td>0.5551</td>\n",
       "    </tr>\n",
       "    <tr>\n",
       "      <th>5</th>\n",
       "      <td>SVM</td>\n",
       "      <td>Word2Vec</td>\n",
       "      <td>0.5124</td>\n",
       "      <td>0.2625</td>\n",
       "      <td>0.5124</td>\n",
       "      <td>0.3472</td>\n",
       "    </tr>\n",
       "    <tr>\n",
       "      <th>6</th>\n",
       "      <td>KNN</td>\n",
       "      <td>TF-IDF</td>\n",
       "      <td>0.5230</td>\n",
       "      <td>0.4843</td>\n",
       "      <td>0.5230</td>\n",
       "      <td>0.4703</td>\n",
       "    </tr>\n",
       "    <tr>\n",
       "      <th>7</th>\n",
       "      <td>KNN</td>\n",
       "      <td>Word2Vec</td>\n",
       "      <td>0.5071</td>\n",
       "      <td>0.4312</td>\n",
       "      <td>0.5071</td>\n",
       "      <td>0.4053</td>\n",
       "    </tr>\n",
       "  </tbody>\n",
       "</table>\n",
       "</div>"
      ],
      "text/plain": [
       "                 Model Vectorization  Accuracy  Precision  Recall  F1 Score\n",
       "0  Logistic Regression        TF-IDF    0.5779     0.5617  0.5779    0.5605\n",
       "1  Logistic Regression      Word2Vec    0.5265     0.5116  0.5265    0.4327\n",
       "2          Naive Bayes        TF-IDF    0.5504     0.5952  0.5504    0.4491\n",
       "3          Naive Bayes      Word2Vec    0.5106     0.3154  0.5106    0.3515\n",
       "4                  SVM        TF-IDF    0.5796     0.5612  0.5796    0.5551\n",
       "5                  SVM      Word2Vec    0.5124     0.2625  0.5124    0.3472\n",
       "6                  KNN        TF-IDF    0.5230     0.4843  0.5230    0.4703\n",
       "7                  KNN      Word2Vec    0.5071     0.4312  0.5071    0.4053"
      ]
     },
     "execution_count": 31,
     "metadata": {},
     "output_type": "execute_result"
    }
   ],
   "source": [
    "performance.head(10)"
   ]
  },
  {
   "cell_type": "markdown",
   "metadata": {},
   "source": [
    "### Model 5: Voting Classifier"
   ]
  },
  {
   "cell_type": "markdown",
   "metadata": {},
   "source": [
    "From this performance data, we can see that Logistic Regression, Naive Bayes and SVM have performance that is very close. Therefore, I use a Voting Classifier to create a model that predicts based on the votes from all 3 of these."
   ]
  },
  {
   "cell_type": "code",
   "execution_count": 32,
   "metadata": {},
   "outputs": [
    {
     "name": "stdout",
     "output_type": "stream",
     "text": [
      "              precision    recall  f1-score   support\n",
      "\n",
      "          -1       0.59      0.87      0.71       579\n",
      "           0       0.48      0.26      0.34       333\n",
      "           1       0.57      0.25      0.35       218\n",
      "\n",
      "    accuracy                           0.57      1130\n",
      "   macro avg       0.55      0.46      0.47      1130\n",
      "weighted avg       0.56      0.57      0.53      1130\n",
      "\n"
     ]
    },
    {
     "name": "stderr",
     "output_type": "stream",
     "text": [
      "C:\\Users\\utsav\\AppData\\Local\\Temp\\ipykernel_35920\\2285202385.py:9: FutureWarning: The frame.append method is deprecated and will be removed from pandas in a future version. Use pandas.concat instead.\n",
      "  performance = performance.append(new_data, ignore_index=True)\n"
     ]
    }
   ],
   "source": [
    "estimator = [] \n",
    "estimator.append(('LR', LogisticRegression(solver='saga',C=5,penalty='l2',random_state=44))) \n",
    "estimator.append(('Naive Bayes', MultinomialNB())) \n",
    "estimator.append(('SVM', svm.SVC(kernel='linear', random_state=4, probability=True)))\n",
    "voting = VotingClassifier(estimators = estimator, voting ='soft') \n",
    "voting.fit(X_train_vectors_tfidf, y_train) \n",
    "y_pred_vot = voting.predict(X_test_vectors_tfidf) \n",
    "print(classification_report(y_test,y_pred_vot))\n",
    "write_metrics('Voting','TF-IDF',y_test,y_pred_vot)"
   ]
  },
  {
   "cell_type": "markdown",
   "metadata": {},
   "source": [
    "## Semi-Supervised<br>\n",
    "***"
   ]
  },
  {
   "cell_type": "markdown",
   "metadata": {},
   "source": [
    "As we can see from the statistics, we achieve a 57% accuracy using our Voting classifier. But, can we improve things further?<br>\n",
    "If we look back to the start of this notebook, we dropped all records that were not in the classes -1, 0 and 1.<br>\n",
    "However, that means we lose out on 1,544 records that are labelled as class 2 (mixed). These tweets express both positive and negative opinions.<br>\n",
    "In our problem statement, we are only concered with the classes -1, 0 and 1. \n",
    "So, what if we were to perform semi-supervised learning and treat these as unlabelled data?"
   ]
  },
  {
   "cell_type": "code",
   "execution_count": 33,
   "metadata": {},
   "outputs": [
    {
     "name": "stdout",
     "output_type": "stream",
     "text": [
      "(1351, 2)\n"
     ]
    },
    {
     "data": {
      "text/html": [
       "<div>\n",
       "<style scoped>\n",
       "    .dataframe tbody tr th:only-of-type {\n",
       "        vertical-align: middle;\n",
       "    }\n",
       "\n",
       "    .dataframe tbody tr th {\n",
       "        vertical-align: top;\n",
       "    }\n",
       "\n",
       "    .dataframe thead th {\n",
       "        text-align: right;\n",
       "    }\n",
       "</style>\n",
       "<table border=\"1\" class=\"dataframe\">\n",
       "  <thead>\n",
       "    <tr style=\"text-align: right;\">\n",
       "      <th></th>\n",
       "      <th>tweet</th>\n",
       "      <th>class</th>\n",
       "    </tr>\n",
       "  </thead>\n",
       "  <tbody>\n",
       "    <tr>\n",
       "      <th>2</th>\n",
       "      <td>romney claim obama administration public libya</td>\n",
       "      <td>2</td>\n",
       "    </tr>\n",
       "    <tr>\n",
       "      <th>9</th>\n",
       "      <td>presidential debate round romney want obama</td>\n",
       "      <td>2</td>\n",
       "    </tr>\n",
       "    <tr>\n",
       "      <th>15</th>\n",
       "      <td>romney lead obama economy job deficit poll fin...</td>\n",
       "      <td>2</td>\n",
       "    </tr>\n",
       "    <tr>\n",
       "      <th>19</th>\n",
       "      <td>romney obama</td>\n",
       "      <td>2</td>\n",
       "    </tr>\n",
       "    <tr>\n",
       "      <th>33</th>\n",
       "      <td>romney crush obama tonight debate win election...</td>\n",
       "      <td>2</td>\n",
       "    </tr>\n",
       "  </tbody>\n",
       "</table>\n",
       "</div>"
      ],
      "text/plain": [
       "                                                tweet  class\n",
       "2      romney claim obama administration public libya      2\n",
       "9         presidential debate round romney want obama      2\n",
       "15  romney lead obama economy job deficit poll fin...      2\n",
       "19                                       romney obama      2\n",
       "33  romney crush obama tonight debate win election...      2"
      ]
     },
     "execution_count": 33,
     "metadata": {},
     "output_type": "execute_result"
    }
   ],
   "source": [
    "#take the records with class = 2\n",
    "romney_mixed = romney[romney['class'].isin(['2',2])].copy(deep=True)\n",
    "#change class type to int\n",
    "romney_mixed['class']=romney_mixed['class'].astype(int)\n",
    "romney_mixed['tweet_token'] = romney_mixed['tweet'].apply(lambda stext: tokenize(str(stext)))\n",
    "# remove words with length less than 2\n",
    "romney_mixed['tweet_string'] = romney_mixed['tweet_token'].apply(lambda x:' '.join([item for item in x if len(item)>2]))\n",
    "# find the frequesncy distribution and remove words with frequency less than 1\n",
    "all_words = ' '.join([text for text in romney_mixed['tweet_string']])\n",
    "tokenized_romney_mixed = nltk.tokenize.word_tokenize(all_words)\n",
    "fdist = FreqDist(tokenized_romney_mixed)\n",
    "romney_mixed['tweet_string_fdist'] = romney_mixed['tweet_token'].apply(lambda x: ' '.join([item for item in x if fdist[item] > 1 ]))\n",
    "# lemmatize the words\n",
    "romney_mixed['tweet'] = romney_mixed['tweet_string_fdist'].apply(lambda x: lemmatiser(x))\n",
    "# drop the columns that we do not need\n",
    "romney_mixed = romney_mixed.drop(['tweet_token', 'tweet_string', 'tweet_string_fdist'], axis=1)\n",
    "# drop null values\n",
    "romney_mixed.dropna(inplace=True)\n",
    "# drop the class column\n",
    "romney_mixed.drop(['class'], axis=1)\n",
    "print(romney_mixed.shape)\n",
    "romney_mixed.head(5)"
   ]
  },
  {
   "cell_type": "markdown",
   "metadata": {},
   "source": [
    "Creating TF-IDF vectors of these records,"
   ]
  },
  {
   "cell_type": "code",
   "execution_count": 34,
   "metadata": {},
   "outputs": [],
   "source": [
    "mixed_vectors_tfidf = tfidf_vectorizer.transform(romney_mixed['tweet'])"
   ]
  },
  {
   "cell_type": "markdown",
   "metadata": {},
   "source": [
    "We predict the classes for these records."
   ]
  },
  {
   "cell_type": "code",
   "execution_count": 35,
   "metadata": {},
   "outputs": [],
   "source": [
    "mixed_y_pred = lr_model_tfidf.predict(mixed_vectors_tfidf)"
   ]
  },
  {
   "cell_type": "markdown",
   "metadata": {},
   "source": [
    "We add these classes to our `obama_mixed` dataframe,"
   ]
  },
  {
   "cell_type": "code",
   "execution_count": 36,
   "metadata": {},
   "outputs": [
    {
     "data": {
      "text/html": [
       "<div>\n",
       "<style scoped>\n",
       "    .dataframe tbody tr th:only-of-type {\n",
       "        vertical-align: middle;\n",
       "    }\n",
       "\n",
       "    .dataframe tbody tr th {\n",
       "        vertical-align: top;\n",
       "    }\n",
       "\n",
       "    .dataframe thead th {\n",
       "        text-align: right;\n",
       "    }\n",
       "</style>\n",
       "<table border=\"1\" class=\"dataframe\">\n",
       "  <thead>\n",
       "    <tr style=\"text-align: right;\">\n",
       "      <th></th>\n",
       "      <th>tweet</th>\n",
       "      <th>class</th>\n",
       "    </tr>\n",
       "  </thead>\n",
       "  <tbody>\n",
       "    <tr>\n",
       "      <th>2</th>\n",
       "      <td>romney claim obama administration public libya</td>\n",
       "      <td>-1</td>\n",
       "    </tr>\n",
       "    <tr>\n",
       "      <th>9</th>\n",
       "      <td>presidential debate round romney want obama</td>\n",
       "      <td>-1</td>\n",
       "    </tr>\n",
       "    <tr>\n",
       "      <th>15</th>\n",
       "      <td>romney lead obama economy job deficit poll fin...</td>\n",
       "      <td>1</td>\n",
       "    </tr>\n",
       "    <tr>\n",
       "      <th>19</th>\n",
       "      <td>romney obama</td>\n",
       "      <td>0</td>\n",
       "    </tr>\n",
       "    <tr>\n",
       "      <th>33</th>\n",
       "      <td>romney crush obama tonight debate win election...</td>\n",
       "      <td>1</td>\n",
       "    </tr>\n",
       "  </tbody>\n",
       "</table>\n",
       "</div>"
      ],
      "text/plain": [
       "                                                tweet  class\n",
       "2      romney claim obama administration public libya     -1\n",
       "9         presidential debate round romney want obama     -1\n",
       "15  romney lead obama economy job deficit poll fin...      1\n",
       "19                                       romney obama      0\n",
       "33  romney crush obama tonight debate win election...      1"
      ]
     },
     "execution_count": 36,
     "metadata": {},
     "output_type": "execute_result"
    }
   ],
   "source": [
    "romney_mixed['class'] = mixed_y_pred\n",
    "romney_mixed.head()"
   ]
  },
  {
   "cell_type": "markdown",
   "metadata": {},
   "source": [
    "Merging these records with our existing dataframe `romney_df`,"
   ]
  },
  {
   "cell_type": "code",
   "execution_count": 37,
   "metadata": {},
   "outputs": [
    {
     "name": "stdout",
     "output_type": "stream",
     "text": [
      "(7002, 2)\n"
     ]
    }
   ],
   "source": [
    "romney_merged = romney_df.merge(romney_mixed, how='outer')\n",
    "print(romney_merged.shape)"
   ]
  },
  {
   "cell_type": "markdown",
   "metadata": {},
   "source": [
    "Now, we retrain our Voting Classifier on this new dataset:"
   ]
  },
  {
   "cell_type": "code",
   "execution_count": 38,
   "metadata": {},
   "outputs": [],
   "source": [
    "ss_df_X = romney_merged['tweet']\n",
    "ss_df_Y = romney_merged['class']\n",
    "ss_X_train, ss_X_test, ss_y_train, ss_y_test = train_test_split(ss_df_X,ss_df_Y,test_size=0.2,random_state = 1551)"
   ]
  },
  {
   "cell_type": "markdown",
   "metadata": {},
   "source": [
    "Convert the tweets into TF-IDF Vectors"
   ]
  },
  {
   "cell_type": "code",
   "execution_count": 39,
   "metadata": {},
   "outputs": [],
   "source": [
    "ss_X_train_vectors_tfidf = tfidf_vectorizer.fit_transform(ss_X_train)\n",
    "ss_X_test_vectors_tfidf = tfidf_vectorizer.transform(ss_X_test)"
   ]
  },
  {
   "cell_type": "markdown",
   "metadata": {},
   "source": [
    "Fit them to our Voting Classifier"
   ]
  },
  {
   "cell_type": "code",
   "execution_count": 40,
   "metadata": {},
   "outputs": [
    {
     "name": "stdout",
     "output_type": "stream",
     "text": [
      "              precision    recall  f1-score   support\n",
      "\n",
      "          -1       0.66      0.86      0.75       703\n",
      "           0       0.61      0.45      0.52       427\n",
      "           1       0.67      0.41      0.51       271\n",
      "\n",
      "    accuracy                           0.65      1401\n",
      "   macro avg       0.65      0.57      0.59      1401\n",
      "weighted avg       0.65      0.65      0.63      1401\n",
      "\n"
     ]
    },
    {
     "name": "stderr",
     "output_type": "stream",
     "text": [
      "C:\\Users\\utsav\\AppData\\Local\\Temp\\ipykernel_35920\\2285202385.py:9: FutureWarning: The frame.append method is deprecated and will be removed from pandas in a future version. Use pandas.concat instead.\n",
      "  performance = performance.append(new_data, ignore_index=True)\n"
     ]
    }
   ],
   "source": [
    "voting.fit(ss_X_train_vectors_tfidf, ss_y_train) \n",
    "y_pred_vot_ss = voting.predict(ss_X_test_vectors_tfidf) \n",
    "print(classification_report(ss_y_test,y_pred_vot_ss))\n",
    "write_metrics('Semi- Supervised Voting','TF-IDF',ss_y_test,y_pred_vot_ss)"
   ]
  },
  {
   "cell_type": "markdown",
   "metadata": {},
   "source": [
    "This achieves 65% accuracy for the model."
   ]
  },
  {
   "cell_type": "markdown",
   "metadata": {},
   "source": [
    "## Sample Data<br>\n",
    "***"
   ]
  },
  {
   "cell_type": "markdown",
   "metadata": {},
   "source": [
    "Now that the model is ready, we can load, clean and tokenize the sample data excel."
   ]
  },
  {
   "cell_type": "code",
   "execution_count": 41,
   "metadata": {},
   "outputs": [
    {
     "name": "stdout",
     "output_type": "stream",
     "text": [
      "(1900, 1)\n"
     ]
    },
    {
     "data": {
      "text/html": [
       "<div>\n",
       "<style scoped>\n",
       "    .dataframe tbody tr th:only-of-type {\n",
       "        vertical-align: middle;\n",
       "    }\n",
       "\n",
       "    .dataframe tbody tr th {\n",
       "        vertical-align: top;\n",
       "    }\n",
       "\n",
       "    .dataframe thead th {\n",
       "        text-align: right;\n",
       "    }\n",
       "</style>\n",
       "<table border=\"1\" class=\"dataframe\">\n",
       "  <thead>\n",
       "    <tr style=\"text-align: right;\">\n",
       "      <th></th>\n",
       "      <th>tweet</th>\n",
       "    </tr>\n",
       "  </thead>\n",
       "  <tbody>\n",
       "    <tr>\n",
       "      <th>0</th>\n",
       "      <td>romney get less minute debate candy crowley still</td>\n",
       "    </tr>\n",
       "    <tr>\n",
       "      <th>1</th>\n",
       "      <td>mitt record character</td>\n",
       "    </tr>\n",
       "    <tr>\n",
       "      <th>2</th>\n",
       "      <td>actually like romney response immigration</td>\n",
       "    </tr>\n",
       "    <tr>\n",
       "      <th>3</th>\n",
       "      <td>immigration statement romney answer enough get...</td>\n",
       "    </tr>\n",
       "    <tr>\n",
       "      <th>4</th>\n",
       "      <td>man romney dude economics</td>\n",
       "    </tr>\n",
       "  </tbody>\n",
       "</table>\n",
       "</div>"
      ],
      "text/plain": [
       "                                               tweet\n",
       "0  romney get less minute debate candy crowley still\n",
       "1                              mitt record character\n",
       "2          actually like romney response immigration\n",
       "3  immigration statement romney answer enough get...\n",
       "4                          man romney dude economics"
      ]
     },
     "execution_count": 41,
     "metadata": {},
     "output_type": "execute_result"
    }
   ],
   "source": [
    "#data loading\n",
    "sample_data = pd.ExcelFile(sample_data_excel)\n",
    "sample_romney = pd.read_excel(sample_data, sample_data_sheet)\n",
    "if(len(sample_romney.columns) == 6):\n",
    "    sample_romney = sample_romney[1:]\n",
    "    sample_romney = sample_romney.drop(['Unnamed: 0', 'date', 'time', 'Unnamed: 5'], axis=1)\n",
    "    sample_romney = sample_romney.rename(columns={'Unnamed: 4': 'class', 'Anootated tweet': 'tweet'})\n",
    "    sample_romney = sample_romney[sample_romney['class'].isin(['-1', '0', '1',-1,0,1])]\n",
    "    sample_romney['class']=sample_romney['class'].astype(int)\n",
    "    #create a copy to use for printing to output file\n",
    "    output_data = sample_romney.copy(deep=True)\n",
    "    sample_romney['tweet_token'] = sample_romney['tweet'].apply(lambda stext: tokenize(str(stext)))\n",
    "    #remove words with length less than 2\n",
    "    sample_romney['tweet_string'] = sample_romney['tweet_token'].apply(lambda x:' '.join([item for item in x if len(item)>2]))\n",
    "    #Find a frequency distribution, and remove words with frequency less than 1\n",
    "    all_words = ' '.join([text for text in sample_romney['tweet_string']])\n",
    "    tokenized_sample_romney = nltk.tokenize.word_tokenize(all_words)\n",
    "    fdist = FreqDist(tokenized_sample_romney)\n",
    "    sample_romney['tweet_string_fdist'] = sample_romney['tweet_token'].apply(lambda x: ' '.join([item for item in x if fdist[item] > 1 ]))\n",
    "    sample_romney['tweet'] = sample_romney['tweet_string_fdist'].apply(lambda x: lemmatiser(x))\n",
    "    sample_romney = sample_romney.drop(['tweet_token', 'tweet_string', 'tweet_string_fdist'], axis=1)\n",
    "    sample_romney.dropna(inplace=True)\n",
    "    sample_df_X = sample_romney['tweet']\n",
    "    sample_df_Y = sample_romney['class']\n",
    "elif(len(sample_romney.columns) == 2):\n",
    "    sample_romney = pd.read_excel(sample_data, sample_data_sheet,header=None)\n",
    "    sample_romney.drop(sample_romney.columns[0], axis=1, inplace=True)\n",
    "    sample_romney.columns = ['tweet']\n",
    "    output_data = sample_romney.copy(deep=True)\n",
    "    sample_romney['tweet_token'] = sample_romney['tweet'].apply(lambda stext: tokenize(str(stext)))\n",
    "    #remove words with length less than 2\n",
    "    sample_romney['tweet_string'] = sample_romney['tweet_token'].apply(lambda x:' '.join([item for item in x if len(item)>2]))\n",
    "    #Find a frequency distribution, and remove words with frequency less than 1\n",
    "    all_words = ' '.join([text for text in sample_romney['tweet_string']])\n",
    "    tokenized_sample_romney = nltk.tokenize.word_tokenize(all_words)\n",
    "    fdist = FreqDist(tokenized_sample_romney)\n",
    "    sample_romney['tweet_string_fdist'] = sample_romney['tweet_token'].apply(lambda x: ' '.join([item for item in x if fdist[item] > 1 ]))\n",
    "    sample_romney['tweet'] = sample_romney['tweet_string_fdist'].apply(lambda x: lemmatiser(x))\n",
    "    sample_romney = sample_romney.drop(['tweet_token', 'tweet_string', 'tweet_string_fdist'], axis=1)\n",
    "    sample_romney.dropna(inplace=True)\n",
    "    sample_df_X = sample_romney['tweet']\n",
    "else:\n",
    "    print(\"Invalid columns - check the excel file\")\n",
    "X_sample_vectors = tfidf_vectorizer.transform(sample_df_X)\n",
    "print(sample_romney.shape)\n",
    "sample_romney.head(5)"
   ]
  },
  {
   "cell_type": "markdown",
   "metadata": {},
   "source": [
    "Predicting for our sample test data:"
   ]
  },
  {
   "cell_type": "code",
   "execution_count": 42,
   "metadata": {},
   "outputs": [],
   "source": [
    "sample_y_pred = voting.predict(X_sample_vectors)"
   ]
  },
  {
   "cell_type": "markdown",
   "metadata": {},
   "source": [
    "Finally, we write our predicted classes to an excel sheet."
   ]
  },
  {
   "cell_type": "code",
   "execution_count": 43,
   "metadata": {},
   "outputs": [],
   "source": [
    "# output_data['Predicted class'] = sample_y_pred\n",
    "# output_data.to_excel(output_file, index=False, sheet_name=sample_data_sheet)"
   ]
  },
  {
   "cell_type": "code",
   "execution_count": 44,
   "metadata": {},
   "outputs": [],
   "source": [
    "output_file = open(output_file, \"w\")\n",
    "output_file.write(\"(setf x ‘(\\n\")\n",
    "\n",
    "for i in range(len(sample_y_pred)):\n",
    "    line = \"(\"+str(i+1)+\" \"+str(sample_y_pred[i])+\")\"\n",
    "    output_file.write(str(line))\n",
    "    output_file.write('\\n')\n",
    "output_file.write(\"))\")\n",
    "output_file.close()"
   ]
  },
  {
   "cell_type": "code",
   "execution_count": 45,
   "metadata": {},
   "outputs": [],
   "source": [
    "# performance.to_csv('C:/Users/utsav/OneDrive/UIC/Fall_2023/CS_583/Project/performance_romney.csv', index=False)"
   ]
  },
  {
   "cell_type": "markdown",
   "metadata": {},
   "source": [
    "Resources:<br>\n",
    "https://www.kirenz.com/post/2021-12-11-text-mining-and-sentiment-analysis-with-nltk-and-pandas-in-python/text-mining-and-sentiment-analysis-with-nltk-and-pandas-in-python/ <br>\n",
    "https://medium.com/@qacbustamante/natural-language-processing-using-python-part-1-958d4ea1846e <br>\n",
    "https://www.geeksforgeeks.org/ml-voting-classifier-using-sklearn/ <br>"
   ]
  }
 ],
 "metadata": {
  "kernelspec": {
   "display_name": "CS418",
   "language": "python",
   "name": "python3"
  },
  "language_info": {
   "codemirror_mode": {
    "name": "ipython",
    "version": 3
   },
   "file_extension": ".py",
   "mimetype": "text/x-python",
   "name": "python",
   "nbconvert_exporter": "python",
   "pygments_lexer": "ipython3",
   "version": "3.9.16"
  }
 },
 "nbformat": 4,
 "nbformat_minor": 2
}
