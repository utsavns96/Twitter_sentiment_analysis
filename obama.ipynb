{
 "cells": [
  {
   "cell_type": "markdown",
   "metadata": {},
   "source": [
    "# Obama Tweets"
   ]
  },
  {
   "cell_type": "markdown",
   "metadata": {},
   "source": [
    "To start off, we first specify all the imports that we'll need for this notebook:"
   ]
  },
  {
   "cell_type": "code",
   "execution_count": 147,
   "metadata": {},
   "outputs": [],
   "source": [
    "#pip install gensim"
   ]
  },
  {
   "cell_type": "code",
   "execution_count": 148,
   "metadata": {},
   "outputs": [],
   "source": [
    "import nltk\n",
    "import pandas as pd\n",
    "import re\n",
    "import numpy as np\n",
    "from nltk.tokenize import RegexpTokenizer\n",
    "from nltk.corpus import stopwords\n",
    "from nltk.stem import WordNetLemmatizer\n",
    "from sklearn.model_selection import train_test_split\n",
    "from nltk.probability import FreqDist\n",
    "from sklearn.feature_extraction.text import TfidfVectorizer\n",
    "from sklearn.metrics import classification_report, f1_score, accuracy_score, confusion_matrix, precision_score, recall_score\n",
    "from gensim.models import Word2Vec\n",
    "from sklearn.preprocessing import MinMaxScaler\n",
    "import matplotlib.pyplot as plt\n",
    "import seaborn as sns\n",
    "from nltk.stem import WordNetLemmatizer\n",
    "from nltk.corpus import wordnet\n",
    "#models:\n",
    "from sklearn.linear_model import LogisticRegression\n",
    "from sklearn.naive_bayes import MultinomialNB\n",
    "from sklearn import svm\n",
    "from sklearn.model_selection import GridSearchCV\n",
    "from sklearn.neighbors import KNeighborsClassifier\n",
    "from sklearn.ensemble import VotingClassifier\n",
    "\n",
    "\n",
    "training_data_excel = 'C:/Users/utsav/OneDrive/UIC/Fall_2023/CS_583/Project/training-Obama-Romney-tweets.xlsx'\n",
    "training_data_sheet = 'Obama'\n",
    "sample_data_excel = 'C:/Users/utsav/OneDrive/UIC/Fall_2023/CS_583/Project/sample-testdata.xlsx'\n",
    "sample_data_sheet = 'Obama'"
   ]
  },
  {
   "cell_type": "markdown",
   "metadata": {},
   "source": [
    "We now load the data from the input excel into a dataframe"
   ]
  },
  {
   "cell_type": "code",
   "execution_count": 149,
   "metadata": {},
   "outputs": [
    {
     "name": "stdout",
     "output_type": "stream",
     "text": [
      "(7199, 6)\n"
     ]
    },
    {
     "data": {
      "text/html": [
       "<div>\n",
       "<style scoped>\n",
       "    .dataframe tbody tr th:only-of-type {\n",
       "        vertical-align: middle;\n",
       "    }\n",
       "\n",
       "    .dataframe tbody tr th {\n",
       "        vertical-align: top;\n",
       "    }\n",
       "\n",
       "    .dataframe thead th {\n",
       "        text-align: right;\n",
       "    }\n",
       "</style>\n",
       "<table border=\"1\" class=\"dataframe\">\n",
       "  <thead>\n",
       "    <tr style=\"text-align: right;\">\n",
       "      <th></th>\n",
       "      <th>Unnamed: 0</th>\n",
       "      <th>date</th>\n",
       "      <th>time</th>\n",
       "      <th>Anootated tweet</th>\n",
       "      <th>Unnamed: 4</th>\n",
       "      <th>Unnamed: 5</th>\n",
       "    </tr>\n",
       "  </thead>\n",
       "  <tbody>\n",
       "    <tr>\n",
       "      <th>0</th>\n",
       "      <td>NaN</td>\n",
       "      <td>NaN</td>\n",
       "      <td>NaN</td>\n",
       "      <td>1: positive, -1: negative, 0: neutral, 2: mixed</td>\n",
       "      <td>Class</td>\n",
       "      <td>Your class</td>\n",
       "    </tr>\n",
       "    <tr>\n",
       "      <th>1</th>\n",
       "      <td>NaN</td>\n",
       "      <td>2012-10-16 00:00:00</td>\n",
       "      <td>10:28:53-05:00</td>\n",
       "      <td>Kirkpatrick, who wore a baseball cap embroider...</td>\n",
       "      <td>0</td>\n",
       "      <td>NaN</td>\n",
       "    </tr>\n",
       "    <tr>\n",
       "      <th>2</th>\n",
       "      <td>NaN</td>\n",
       "      <td>2016-12-10 00:00:00</td>\n",
       "      <td>10:09:00-05:00</td>\n",
       "      <td>Question: If &lt;e&gt;Romney&lt;/e&gt; and &lt;e&gt;Obama&lt;/e&gt; ha...</td>\n",
       "      <td>2</td>\n",
       "      <td>NaN</td>\n",
       "    </tr>\n",
       "    <tr>\n",
       "      <th>3</th>\n",
       "      <td>NaN</td>\n",
       "      <td>2012-10-16 00:00:00</td>\n",
       "      <td>10:04:30-05:00</td>\n",
       "      <td>#&lt;e&gt;obama&lt;/e&gt; debates that Cracker Ass Cracker...</td>\n",
       "      <td>1</td>\n",
       "      <td>NaN</td>\n",
       "    </tr>\n",
       "    <tr>\n",
       "      <th>4</th>\n",
       "      <td>NaN</td>\n",
       "      <td>2012-10-16 00:00:00</td>\n",
       "      <td>10:00:36-05:00</td>\n",
       "      <td>RT @davewiner Slate: Blame &lt;e&gt;Obama&lt;/e&gt; for fo...</td>\n",
       "      <td>2</td>\n",
       "      <td>NaN</td>\n",
       "    </tr>\n",
       "  </tbody>\n",
       "</table>\n",
       "</div>"
      ],
      "text/plain": [
       "   Unnamed: 0                 date            time  \\\n",
       "0         NaN                  NaN             NaN   \n",
       "1         NaN  2012-10-16 00:00:00  10:28:53-05:00   \n",
       "2         NaN  2016-12-10 00:00:00  10:09:00-05:00   \n",
       "3         NaN  2012-10-16 00:00:00  10:04:30-05:00   \n",
       "4         NaN  2012-10-16 00:00:00  10:00:36-05:00   \n",
       "\n",
       "                                     Anootated tweet Unnamed: 4  Unnamed: 5  \n",
       "0    1: positive, -1: negative, 0: neutral, 2: mixed      Class  Your class  \n",
       "1  Kirkpatrick, who wore a baseball cap embroider...          0         NaN  \n",
       "2  Question: If <e>Romney</e> and <e>Obama</e> ha...          2         NaN  \n",
       "3  #<e>obama</e> debates that Cracker Ass Cracker...          1         NaN  \n",
       "4  RT @davewiner Slate: Blame <e>Obama</e> for fo...          2         NaN  "
      ]
     },
     "execution_count": 149,
     "metadata": {},
     "output_type": "execute_result"
    }
   ],
   "source": [
    "#data loading\n",
    "data = pd.ExcelFile(training_data_excel)\n",
    "obama = pd.read_excel(data, training_data_sheet)\n",
    "print(obama.shape)\n",
    "obama.head(5)"
   ]
  },
  {
   "cell_type": "markdown",
   "metadata": {},
   "source": [
    "## Data Cleaning"
   ]
  },
  {
   "cell_type": "markdown",
   "metadata": {},
   "source": [
    "We can now start cleaning the data.<br>\n",
    "We drop the first row from the dataframe:"
   ]
  },
  {
   "cell_type": "code",
   "execution_count": 150,
   "metadata": {},
   "outputs": [
    {
     "data": {
      "text/html": [
       "<div>\n",
       "<style scoped>\n",
       "    .dataframe tbody tr th:only-of-type {\n",
       "        vertical-align: middle;\n",
       "    }\n",
       "\n",
       "    .dataframe tbody tr th {\n",
       "        vertical-align: top;\n",
       "    }\n",
       "\n",
       "    .dataframe thead th {\n",
       "        text-align: right;\n",
       "    }\n",
       "</style>\n",
       "<table border=\"1\" class=\"dataframe\">\n",
       "  <thead>\n",
       "    <tr style=\"text-align: right;\">\n",
       "      <th></th>\n",
       "      <th>Unnamed: 0</th>\n",
       "      <th>date</th>\n",
       "      <th>time</th>\n",
       "      <th>Anootated tweet</th>\n",
       "      <th>Unnamed: 4</th>\n",
       "      <th>Unnamed: 5</th>\n",
       "    </tr>\n",
       "  </thead>\n",
       "  <tbody>\n",
       "    <tr>\n",
       "      <th>1</th>\n",
       "      <td>NaN</td>\n",
       "      <td>2012-10-16 00:00:00</td>\n",
       "      <td>10:28:53-05:00</td>\n",
       "      <td>Kirkpatrick, who wore a baseball cap embroider...</td>\n",
       "      <td>0</td>\n",
       "      <td>NaN</td>\n",
       "    </tr>\n",
       "    <tr>\n",
       "      <th>2</th>\n",
       "      <td>NaN</td>\n",
       "      <td>2016-12-10 00:00:00</td>\n",
       "      <td>10:09:00-05:00</td>\n",
       "      <td>Question: If &lt;e&gt;Romney&lt;/e&gt; and &lt;e&gt;Obama&lt;/e&gt; ha...</td>\n",
       "      <td>2</td>\n",
       "      <td>NaN</td>\n",
       "    </tr>\n",
       "    <tr>\n",
       "      <th>3</th>\n",
       "      <td>NaN</td>\n",
       "      <td>2012-10-16 00:00:00</td>\n",
       "      <td>10:04:30-05:00</td>\n",
       "      <td>#&lt;e&gt;obama&lt;/e&gt; debates that Cracker Ass Cracker...</td>\n",
       "      <td>1</td>\n",
       "      <td>NaN</td>\n",
       "    </tr>\n",
       "    <tr>\n",
       "      <th>4</th>\n",
       "      <td>NaN</td>\n",
       "      <td>2012-10-16 00:00:00</td>\n",
       "      <td>10:00:36-05:00</td>\n",
       "      <td>RT @davewiner Slate: Blame &lt;e&gt;Obama&lt;/e&gt; for fo...</td>\n",
       "      <td>2</td>\n",
       "      <td>NaN</td>\n",
       "    </tr>\n",
       "    <tr>\n",
       "      <th>5</th>\n",
       "      <td>NaN</td>\n",
       "      <td>2012-10-16 00:00:00</td>\n",
       "      <td>09:50:08-05:00</td>\n",
       "      <td>@Hollivan @hereistheanswer  Youre missing the ...</td>\n",
       "      <td>0</td>\n",
       "      <td>NaN</td>\n",
       "    </tr>\n",
       "  </tbody>\n",
       "</table>\n",
       "</div>"
      ],
      "text/plain": [
       "   Unnamed: 0                 date            time  \\\n",
       "1         NaN  2012-10-16 00:00:00  10:28:53-05:00   \n",
       "2         NaN  2016-12-10 00:00:00  10:09:00-05:00   \n",
       "3         NaN  2012-10-16 00:00:00  10:04:30-05:00   \n",
       "4         NaN  2012-10-16 00:00:00  10:00:36-05:00   \n",
       "5         NaN  2012-10-16 00:00:00  09:50:08-05:00   \n",
       "\n",
       "                                     Anootated tweet Unnamed: 4 Unnamed: 5  \n",
       "1  Kirkpatrick, who wore a baseball cap embroider...          0        NaN  \n",
       "2  Question: If <e>Romney</e> and <e>Obama</e> ha...          2        NaN  \n",
       "3  #<e>obama</e> debates that Cracker Ass Cracker...          1        NaN  \n",
       "4  RT @davewiner Slate: Blame <e>Obama</e> for fo...          2        NaN  \n",
       "5  @Hollivan @hereistheanswer  Youre missing the ...          0        NaN  "
      ]
     },
     "execution_count": 150,
     "metadata": {},
     "output_type": "execute_result"
    }
   ],
   "source": [
    "obama = obama[1:]\n",
    "obama.head(5)"
   ]
  },
  {
   "cell_type": "markdown",
   "metadata": {},
   "source": [
    "Now, we can drop the columns that we do not need, namely: `Unnamed: 0`, `date`, `time` and `Unnamed: 5`.<br>\n",
    "We also rename `Unnamed: 4 ` to `class` and `Anootated tweet` to `tweet`."
   ]
  },
  {
   "cell_type": "code",
   "execution_count": 151,
   "metadata": {},
   "outputs": [
    {
     "data": {
      "text/html": [
       "<div>\n",
       "<style scoped>\n",
       "    .dataframe tbody tr th:only-of-type {\n",
       "        vertical-align: middle;\n",
       "    }\n",
       "\n",
       "    .dataframe tbody tr th {\n",
       "        vertical-align: top;\n",
       "    }\n",
       "\n",
       "    .dataframe thead th {\n",
       "        text-align: right;\n",
       "    }\n",
       "</style>\n",
       "<table border=\"1\" class=\"dataframe\">\n",
       "  <thead>\n",
       "    <tr style=\"text-align: right;\">\n",
       "      <th></th>\n",
       "      <th>tweet</th>\n",
       "      <th>class</th>\n",
       "    </tr>\n",
       "  </thead>\n",
       "  <tbody>\n",
       "    <tr>\n",
       "      <th>1</th>\n",
       "      <td>Kirkpatrick, who wore a baseball cap embroider...</td>\n",
       "      <td>0</td>\n",
       "    </tr>\n",
       "    <tr>\n",
       "      <th>2</th>\n",
       "      <td>Question: If &lt;e&gt;Romney&lt;/e&gt; and &lt;e&gt;Obama&lt;/e&gt; ha...</td>\n",
       "      <td>2</td>\n",
       "    </tr>\n",
       "    <tr>\n",
       "      <th>3</th>\n",
       "      <td>#&lt;e&gt;obama&lt;/e&gt; debates that Cracker Ass Cracker...</td>\n",
       "      <td>1</td>\n",
       "    </tr>\n",
       "    <tr>\n",
       "      <th>4</th>\n",
       "      <td>RT @davewiner Slate: Blame &lt;e&gt;Obama&lt;/e&gt; for fo...</td>\n",
       "      <td>2</td>\n",
       "    </tr>\n",
       "    <tr>\n",
       "      <th>5</th>\n",
       "      <td>@Hollivan @hereistheanswer  Youre missing the ...</td>\n",
       "      <td>0</td>\n",
       "    </tr>\n",
       "  </tbody>\n",
       "</table>\n",
       "</div>"
      ],
      "text/plain": [
       "                                               tweet class\n",
       "1  Kirkpatrick, who wore a baseball cap embroider...     0\n",
       "2  Question: If <e>Romney</e> and <e>Obama</e> ha...     2\n",
       "3  #<e>obama</e> debates that Cracker Ass Cracker...     1\n",
       "4  RT @davewiner Slate: Blame <e>Obama</e> for fo...     2\n",
       "5  @Hollivan @hereistheanswer  Youre missing the ...     0"
      ]
     },
     "execution_count": 151,
     "metadata": {},
     "output_type": "execute_result"
    }
   ],
   "source": [
    "obama = obama.drop(['Unnamed: 0', 'date', 'time', 'Unnamed: 5'], axis=1)\n",
    "obama = obama.rename(columns={'Unnamed: 4': 'class', 'Anootated tweet': 'tweet'})\n",
    "obama.head(5)"
   ]
  },
  {
   "cell_type": "markdown",
   "metadata": {},
   "source": [
    "We can check the number of classes available in the dataset:"
   ]
  },
  {
   "cell_type": "code",
   "execution_count": 152,
   "metadata": {},
   "outputs": [
    {
     "name": "stdout",
     "output_type": "stream",
     "text": [
      "-1            1922\n",
      "0             1896\n",
      "1             1653\n",
      "2             1474\n",
      "0               82\n",
      "2               70\n",
      "-1              46\n",
      "1               26\n",
      "irrevelant      23\n",
      "irrelevant       1\n",
      "Name: class, dtype: int64\n"
     ]
    }
   ],
   "source": [
    "print(obama['class'].value_counts())"
   ]
  },
  {
   "cell_type": "markdown",
   "metadata": {},
   "source": [
    "For this notebook, we are only interested in the classes `-1, 0 and 1`. Therefore, we drop all the other classes from the dataframe.<br>\n",
    "We also change the column to be an integer, since the values are a mix of string and integers right now."
   ]
  },
  {
   "cell_type": "code",
   "execution_count": 153,
   "metadata": {},
   "outputs": [
    {
     "name": "stdout",
     "output_type": "stream",
     "text": [
      " 0    1978\n",
      "-1    1968\n",
      " 1    1679\n",
      "Name: class, dtype: int64\n"
     ]
    },
    {
     "data": {
      "text/html": [
       "<div>\n",
       "<style scoped>\n",
       "    .dataframe tbody tr th:only-of-type {\n",
       "        vertical-align: middle;\n",
       "    }\n",
       "\n",
       "    .dataframe tbody tr th {\n",
       "        vertical-align: top;\n",
       "    }\n",
       "\n",
       "    .dataframe thead th {\n",
       "        text-align: right;\n",
       "    }\n",
       "</style>\n",
       "<table border=\"1\" class=\"dataframe\">\n",
       "  <thead>\n",
       "    <tr style=\"text-align: right;\">\n",
       "      <th></th>\n",
       "      <th>tweet</th>\n",
       "      <th>class</th>\n",
       "    </tr>\n",
       "  </thead>\n",
       "  <tbody>\n",
       "    <tr>\n",
       "      <th>1</th>\n",
       "      <td>Kirkpatrick, who wore a baseball cap embroider...</td>\n",
       "      <td>0</td>\n",
       "    </tr>\n",
       "    <tr>\n",
       "      <th>3</th>\n",
       "      <td>#&lt;e&gt;obama&lt;/e&gt; debates that Cracker Ass Cracker...</td>\n",
       "      <td>1</td>\n",
       "    </tr>\n",
       "    <tr>\n",
       "      <th>5</th>\n",
       "      <td>@Hollivan @hereistheanswer  Youre missing the ...</td>\n",
       "      <td>0</td>\n",
       "    </tr>\n",
       "    <tr>\n",
       "      <th>7</th>\n",
       "      <td>I was raised as a Democrat  left the party yea...</td>\n",
       "      <td>-1</td>\n",
       "    </tr>\n",
       "    <tr>\n",
       "      <th>8</th>\n",
       "      <td>The &lt;e&gt;Obama camp&lt;/e&gt; can't afford to lower ex...</td>\n",
       "      <td>0</td>\n",
       "    </tr>\n",
       "  </tbody>\n",
       "</table>\n",
       "</div>"
      ],
      "text/plain": [
       "                                               tweet  class\n",
       "1  Kirkpatrick, who wore a baseball cap embroider...      0\n",
       "3  #<e>obama</e> debates that Cracker Ass Cracker...      1\n",
       "5  @Hollivan @hereistheanswer  Youre missing the ...      0\n",
       "7  I was raised as a Democrat  left the party yea...     -1\n",
       "8  The <e>Obama camp</e> can't afford to lower ex...      0"
      ]
     },
     "execution_count": 153,
     "metadata": {},
     "output_type": "execute_result"
    }
   ],
   "source": [
    "obama_df = obama[obama['class'].isin(['-1', '0', '1',-1,0,1])].copy(deep=True)\n",
    "obama_df['class']=obama_df['class'].astype(int)\n",
    "print(obama_df['class'].value_counts())\n",
    "obama_df.head(5)"
   ]
  },
  {
   "cell_type": "code",
   "execution_count": 154,
   "metadata": {},
   "outputs": [
    {
     "data": {
      "image/png": "[encoded data removed]",
      "text/plain": [
       "<Figure size 1000x600 with 1 Axes>"
      ]
     },
     "metadata": {},
     "output_type": "display_data"
    }
   ],
   "source": [
    "class_counts = obama_df['class'].value_counts()\n",
    "\n",
    "plt.figure(figsize=(10,6))\n",
    "sns.barplot(x=class_counts.index, y=class_counts.values, alpha=0.8)\n",
    "\n",
    "plt.title('Number of Tweets by Class')\n",
    "plt.ylabel('Number of Tweets', fontsize=12)\n",
    "plt.xlabel('Class', fontsize=12)\n",
    "\n",
    "plt.show()"
   ]
  },
  {
   "cell_type": "code",
   "execution_count": 155,
   "metadata": {},
   "outputs": [],
   "source": [
    "# class_counts = obama_df['tweet'].value_counts()\n",
    "# ax = obama_df.plot.bar(x='class', y=class_counts, rot=0)"
   ]
  },
  {
   "cell_type": "markdown",
   "metadata": {},
   "source": [
    "Now, we can start working on the actual tweets. The first few steps that we need to perform are cleaning the text itself and tokenizing it.<br>\n",
    "For that, we use 2 functions:"
   ]
  },
  {
   "cell_type": "code",
   "execution_count": 156,
   "metadata": {},
   "outputs": [
    {
     "name": "stderr",
     "output_type": "stream",
     "text": [
      "[nltk_data] Downloading package stopwords to\n",
      "[nltk_data]     C:\\Users\\utsav\\AppData\\Roaming\\nltk_data...\n",
      "[nltk_data]   Package stopwords is already up-to-date!\n"
     ]
    }
   ],
   "source": [
    "def clean(text):\n",
    "    text = text.lower()\n",
    "    text = re.sub(r'@[A-Za-z0-9]+', '', text)\n",
    "    text = re.sub(r'#[A-Za-z0-9]+', '', text)\n",
    "    text = re.sub(r'https?://[A-Za-z0-9./]+', '', text)\n",
    "    text = re.sub(r'www.[^ ]+', '', text)\n",
    "    text = re.sub(r'[^a-z]', ' ', text)\n",
    "    text = re.sub(r' +', ' ', text)\n",
    "    return text\n",
    "\n",
    "regexp = RegexpTokenizer('\\w+')\n",
    "\n",
    "nltk.download('stopwords')\n",
    "\n",
    "def tokenize(text):\n",
    "    stop_words = stopwords.words('english')\n",
    "    text = clean(text)\n",
    "    text = regexp.tokenize(text)\n",
    "    text = [w for w in text if w not in stop_words]\n",
    "    return text"
   ]
  },
  {
   "cell_type": "markdown",
   "metadata": {},
   "source": [
    "The code cell below performs the task of going through our dataset, cleaning and tokenizing every tweet."
   ]
  },
  {
   "cell_type": "code",
   "execution_count": 157,
   "metadata": {},
   "outputs": [],
   "source": [
    "obama_df['tweet_token'] = obama_df['tweet'].apply(lambda stext: tokenize(str(stext)))"
   ]
  },
  {
   "cell_type": "markdown",
   "metadata": {},
   "source": [
    "We then remove the words that are less than 2 characters, and appear less than 2 times, since those are most likely noise and would not contribute anything to our dataset."
   ]
  },
  {
   "cell_type": "code",
   "execution_count": 158,
   "metadata": {},
   "outputs": [],
   "source": [
    "#remove words with length less than 2\n",
    "obama_df['tweet_string'] = obama_df['tweet_token'].apply(lambda x:' '.join([item for item in x if len(item)>2]))\n",
    "#Find a frequency distribution, and remove words with frequency less than 1\n",
    "all_words = ' '.join([text for text in obama_df['tweet_string']])\n",
    "tokenized_obama_df = nltk.tokenize.word_tokenize(all_words)\n",
    "fdist = FreqDist(tokenized_obama_df)\n",
    "obama_df['tweet_string_fdist'] = obama_df['tweet_token'].apply(lambda x: ' '.join([item for item in x if fdist[item] > 1 ]))"
   ]
  },
  {
   "cell_type": "markdown",
   "metadata": {},
   "source": [
    "Now we have to perform the important task of Lemmatizing our dataset. To do this, we use `WordNetLemmatizer` with `Parts-Of-Speech tags`."
   ]
  },
  {
   "cell_type": "code",
   "execution_count": 159,
   "metadata": {},
   "outputs": [
    {
     "name": "stderr",
     "output_type": "stream",
     "text": [
      "[nltk_data] Downloading package averaged_perceptron_tagger to\n",
      "[nltk_data]     C:\\Users\\utsav\\AppData\\Roaming\\nltk_data...\n",
      "[nltk_data]   Package averaged_perceptron_tagger is already up-to-\n",
      "[nltk_data]       date!\n"
     ]
    }
   ],
   "source": [
    "nltk.download('averaged_perceptron_tagger')\n",
    "\n",
    "lemmatizer = WordNetLemmatizer()\n",
    "def pos_tagger(nltk_tag):\n",
    "    if nltk_tag.startswith('J'):\n",
    "        return wordnet.ADJ\n",
    "    elif nltk_tag.startswith('V'):\n",
    "        return wordnet.VERB\n",
    "    elif nltk_tag.startswith('N'):\n",
    "        return wordnet.NOUN\n",
    "    elif nltk_tag.startswith('R'):\n",
    "        return wordnet.ADV\n",
    "    else:          \n",
    "        return None\n",
    "\n",
    "def lemmatiser(text):\n",
    "    nltk_tagged = nltk.pos_tag(nltk.word_tokenize(text))  \n",
    "    wordnet_tagged = map(lambda x: (x[0], pos_tagger(x[1])), nltk_tagged)\n",
    "    lemmatized_sentence = []\n",
    "    for word, tag in wordnet_tagged:\n",
    "        if tag is None:\n",
    "            lemmatized_sentence.append(word)\n",
    "        else:        \n",
    "            lemmatized_sentence.append(lemmatizer.lemmatize(word, tag))\n",
    "    return \" \".join(lemmatized_sentence)"
   ]
  },
  {
   "cell_type": "markdown",
   "metadata": {},
   "source": [
    "Applying this to our dataset:"
   ]
  },
  {
   "cell_type": "code",
   "execution_count": 160,
   "metadata": {},
   "outputs": [
    {
     "data": {
      "text/html": [
       "<div>\n",
       "<style scoped>\n",
       "    .dataframe tbody tr th:only-of-type {\n",
       "        vertical-align: middle;\n",
       "    }\n",
       "\n",
       "    .dataframe tbody tr th {\n",
       "        vertical-align: top;\n",
       "    }\n",
       "\n",
       "    .dataframe thead th {\n",
       "        text-align: right;\n",
       "    }\n",
       "</style>\n",
       "<table border=\"1\" class=\"dataframe\">\n",
       "  <thead>\n",
       "    <tr style=\"text-align: right;\">\n",
       "      <th></th>\n",
       "      <th>tweet</th>\n",
       "      <th>class</th>\n",
       "      <th>tweet_token</th>\n",
       "      <th>tweet_string</th>\n",
       "      <th>tweet_string_fdist</th>\n",
       "    </tr>\n",
       "  </thead>\n",
       "  <tbody>\n",
       "    <tr>\n",
       "      <th>1</th>\n",
       "      <td>wore cap barack obama signature look jason jou...</td>\n",
       "      <td>0</td>\n",
       "      <td>[kirkpatrick, wore, baseball, cap, embroidered...</td>\n",
       "      <td>kirkpatrick wore baseball cap embroidered bara...</td>\n",
       "      <td>wore cap barack obama signature look jason jou...</td>\n",
       "    </tr>\n",
       "    <tr>\n",
       "      <th>3</th>\n",
       "      <td>obama debate cracker as cracker tonight</td>\n",
       "      <td>1</td>\n",
       "      <td>[e, obama, e, debates, cracker, ass, cracker, ...</td>\n",
       "      <td>obama debates cracker ass cracker tonight tuned</td>\n",
       "      <td>obama debates cracker ass cracker tonight</td>\n",
       "    </tr>\n",
       "    <tr>\n",
       "      <th>5</th>\n",
       "      <td>miss point afraid understand big picture dont ...</td>\n",
       "      <td>0</td>\n",
       "      <td>[youre, missing, point, im, afraid, understand...</td>\n",
       "      <td>youre missing point afraid understand bigger p...</td>\n",
       "      <td>missing point afraid understand bigger picture...</td>\n",
       "    </tr>\n",
       "    <tr>\n",
       "      <th>7</th>\n",
       "      <td>raise democrat leave party year ago never see ...</td>\n",
       "      <td>-1</td>\n",
       "      <td>[raised, democrat, left, party, years, ago, li...</td>\n",
       "      <td>raised democrat left party years ago lifetime ...</td>\n",
       "      <td>raised democrat left party years ago never see...</td>\n",
       "    </tr>\n",
       "    <tr>\n",
       "      <th>8</th>\n",
       "      <td>obama camp afford low expectation tonight deba...</td>\n",
       "      <td>0</td>\n",
       "      <td>[e, obama, camp, e, afford, lower, expectation...</td>\n",
       "      <td>obama camp afford lower expectations tonight d...</td>\n",
       "      <td>obama camp afford lower expectations tonight d...</td>\n",
       "    </tr>\n",
       "  </tbody>\n",
       "</table>\n",
       "</div>"
      ],
      "text/plain": [
       "                                               tweet  class  \\\n",
       "1  wore cap barack obama signature look jason jou...      0   \n",
       "3            obama debate cracker as cracker tonight      1   \n",
       "5  miss point afraid understand big picture dont ...      0   \n",
       "7  raise democrat leave party year ago never see ...     -1   \n",
       "8  obama camp afford low expectation tonight deba...      0   \n",
       "\n",
       "                                         tweet_token  \\\n",
       "1  [kirkpatrick, wore, baseball, cap, embroidered...   \n",
       "3  [e, obama, e, debates, cracker, ass, cracker, ...   \n",
       "5  [youre, missing, point, im, afraid, understand...   \n",
       "7  [raised, democrat, left, party, years, ago, li...   \n",
       "8  [e, obama, camp, e, afford, lower, expectation...   \n",
       "\n",
       "                                        tweet_string  \\\n",
       "1  kirkpatrick wore baseball cap embroidered bara...   \n",
       "3    obama debates cracker ass cracker tonight tuned   \n",
       "5  youre missing point afraid understand bigger p...   \n",
       "7  raised democrat left party years ago lifetime ...   \n",
       "8  obama camp afford lower expectations tonight d...   \n",
       "\n",
       "                                  tweet_string_fdist  \n",
       "1  wore cap barack obama signature look jason jou...  \n",
       "3          obama debates cracker ass cracker tonight  \n",
       "5  missing point afraid understand bigger picture...  \n",
       "7  raised democrat left party years ago never see...  \n",
       "8  obama camp afford lower expectations tonight d...  "
      ]
     },
     "execution_count": 160,
     "metadata": {},
     "output_type": "execute_result"
    }
   ],
   "source": [
    "obama_df['tweet'] = obama_df['tweet_string_fdist'].apply(lambda x: lemmatiser(x))\n",
    "obama_df.head(5)"
   ]
  },
  {
   "cell_type": "markdown",
   "metadata": {},
   "source": [
    "We can drop the columns `tweet_token`, `tweet_string` and `tweet_string_fdist` now.<br>\n",
    "We also remove the null values, to make sure that we do not have any empty records left after the previous steps."
   ]
  },
  {
   "cell_type": "code",
   "execution_count": 161,
   "metadata": {},
   "outputs": [
    {
     "name": "stdout",
     "output_type": "stream",
     "text": [
      "(5625, 2)\n"
     ]
    },
    {
     "data": {
      "text/html": [
       "<div>\n",
       "<style scoped>\n",
       "    .dataframe tbody tr th:only-of-type {\n",
       "        vertical-align: middle;\n",
       "    }\n",
       "\n",
       "    .dataframe tbody tr th {\n",
       "        vertical-align: top;\n",
       "    }\n",
       "\n",
       "    .dataframe thead th {\n",
       "        text-align: right;\n",
       "    }\n",
       "</style>\n",
       "<table border=\"1\" class=\"dataframe\">\n",
       "  <thead>\n",
       "    <tr style=\"text-align: right;\">\n",
       "      <th></th>\n",
       "      <th>tweet</th>\n",
       "      <th>class</th>\n",
       "    </tr>\n",
       "  </thead>\n",
       "  <tbody>\n",
       "    <tr>\n",
       "      <th>1</th>\n",
       "      <td>wore cap barack obama signature look jason jou...</td>\n",
       "      <td>0</td>\n",
       "    </tr>\n",
       "    <tr>\n",
       "      <th>3</th>\n",
       "      <td>obama debate cracker as cracker tonight</td>\n",
       "      <td>1</td>\n",
       "    </tr>\n",
       "    <tr>\n",
       "      <th>5</th>\n",
       "      <td>miss point afraid understand big picture dont ...</td>\n",
       "      <td>0</td>\n",
       "    </tr>\n",
       "    <tr>\n",
       "      <th>7</th>\n",
       "      <td>raise democrat leave party year ago never see ...</td>\n",
       "      <td>-1</td>\n",
       "    </tr>\n",
       "    <tr>\n",
       "      <th>8</th>\n",
       "      <td>obama camp afford low expectation tonight deba...</td>\n",
       "      <td>0</td>\n",
       "    </tr>\n",
       "  </tbody>\n",
       "</table>\n",
       "</div>"
      ],
      "text/plain": [
       "                                               tweet  class\n",
       "1  wore cap barack obama signature look jason jou...      0\n",
       "3            obama debate cracker as cracker tonight      1\n",
       "5  miss point afraid understand big picture dont ...      0\n",
       "7  raise democrat leave party year ago never see ...     -1\n",
       "8  obama camp afford low expectation tonight deba...      0"
      ]
     },
     "execution_count": 161,
     "metadata": {},
     "output_type": "execute_result"
    }
   ],
   "source": [
    "obama_df = obama_df.drop(['tweet_token', 'tweet_string', 'tweet_string_fdist'], axis=1)\n",
    "obama_df.dropna(inplace=True)\n",
    "print(obama_df.shape)\n",
    "obama_df.head(5)"
   ]
  },
  {
   "cell_type": "markdown",
   "metadata": {},
   "source": [
    "We can now take a look at the distribution of the classes in our dataset:"
   ]
  },
  {
   "cell_type": "code",
   "execution_count": 162,
   "metadata": {},
   "outputs": [
    {
     "name": "stdout",
     "output_type": "stream",
     "text": [
      " 0    1978\n",
      "-1    1968\n",
      " 1    1679\n",
      "Name: class, dtype: int64\n"
     ]
    }
   ],
   "source": [
    "print(obama_df['class'].value_counts())"
   ]
  },
  {
   "cell_type": "markdown",
   "metadata": {},
   "source": [
    "## Creating train and test data splits"
   ]
  },
  {
   "cell_type": "markdown",
   "metadata": {},
   "source": [
    "Our data is now ready for processing. To train and test our models, we will perform a train-test-split of 80-20."
   ]
  },
  {
   "cell_type": "code",
   "execution_count": 163,
   "metadata": {},
   "outputs": [],
   "source": [
    "df_X = obama_df['tweet']\n",
    "df_Y = obama_df['class']\n",
    "X_train, X_test, y_train, y_test = train_test_split(df_X,df_Y,test_size=0.2,random_state = 1551)"
   ]
  },
  {
   "cell_type": "markdown",
   "metadata": {},
   "source": [
    "## Vectorization"
   ]
  },
  {
   "cell_type": "markdown",
   "metadata": {},
   "source": [
    "### TF-IDF Vectorization"
   ]
  },
  {
   "cell_type": "markdown",
   "metadata": {},
   "source": [
    "We will use `TfidfVectorizer` from `sklearn`."
   ]
  },
  {
   "cell_type": "code",
   "execution_count": 164,
   "metadata": {},
   "outputs": [],
   "source": [
    "tfidf_vectorizer = TfidfVectorizer(use_idf=True, ngram_range=(1,2))\n",
    "X_train_vectors_tfidf = tfidf_vectorizer.fit_transform(X_train)\n",
    "X_test_vectors_tfidf = tfidf_vectorizer.transform(X_test)"
   ]
  },
  {
   "cell_type": "markdown",
   "metadata": {},
   "source": [
    "### Word2Vec"
   ]
  },
  {
   "cell_type": "markdown",
   "metadata": {},
   "source": [
    "We will also try using `Word2Vec` from `gensim`."
   ]
  },
  {
   "cell_type": "code",
   "execution_count": 165,
   "metadata": {},
   "outputs": [],
   "source": [
    "X_train_tok= [nltk.word_tokenize(i) for i in X_train]  \n",
    "X_test_tok= [nltk.word_tokenize(i) for i in X_test]"
   ]
  },
  {
   "cell_type": "code",
   "execution_count": 166,
   "metadata": {},
   "outputs": [],
   "source": [
    "#building Word2Vec model\n",
    "class MeanEmbeddingVectorizer(object):\n",
    "    def __init__(self, word2vec):\n",
    "        self.word2vec = word2vec\n",
    "        # if a text is empty we should return a vector of zeros\n",
    "        # with the same dimensionality as all the other vectors\n",
    "        self.dim = len(next(iter(word2vec.values())))\n",
    "    def fit(self, X, y):\n",
    "        return self\n",
    "    def transform(self, X):\n",
    "        return np.array([\n",
    "            np.mean([self.word2vec[w] for w in words if w in self.word2vec]\n",
    "                    or [np.zeros(self.dim)], axis=0)\n",
    "            for words in X\n",
    "        ])\n",
    "\n",
    "obama_df['clean_text_tok']=[nltk.word_tokenize(i) for i in obama_df['tweet']] \n",
    "model = Word2Vec(obama_df['clean_text_tok'],min_count=1) \n",
    "w2v = dict(zip(model.wv.index_to_key , model.wv.vectors))   \n",
    "modelw = MeanEmbeddingVectorizer(w2v)\n",
    "\n",
    "X_train_vectors_w2v = modelw.transform(X_train_tok)\n",
    "X_test_vectors_w2v = modelw.transform(X_test_tok)\n",
    "obama_df.drop(['clean_text_tok'], axis=1, inplace=True)"
   ]
  },
  {
   "cell_type": "markdown",
   "metadata": {},
   "source": [
    "To make sure that the negative numbers produced by this do not trip up our models, we use `MinMaxScaler` to normalize the values between 0 and 1."
   ]
  },
  {
   "cell_type": "code",
   "execution_count": 167,
   "metadata": {},
   "outputs": [],
   "source": [
    "scaler = MinMaxScaler()\n",
    "X_train_vectors_w2v = scaler.fit_transform(X_train_vectors_w2v)\n",
    "X_test_vectors_w2v = scaler.transform(X_test_vectors_w2v)"
   ]
  },
  {
   "cell_type": "markdown",
   "metadata": {},
   "source": [
    "Now, we are ready to create and test on our models."
   ]
  },
  {
   "cell_type": "markdown",
   "metadata": {},
   "source": [
    "## Supervised Learning:"
   ]
  },
  {
   "cell_type": "markdown",
   "metadata": {},
   "source": [
    "Before we start running our models, to make things easier, we will create a dataframe to keep a track of our performance metrics."
   ]
  },
  {
   "cell_type": "code",
   "execution_count": 168,
   "metadata": {},
   "outputs": [],
   "source": [
    "performance = pd.DataFrame(columns=['Model','Vectorization','Accuracy', 'Precision', 'Recall', 'F1 Score'])"
   ]
  },
  {
   "cell_type": "markdown",
   "metadata": {},
   "source": [
    "To make things even easier, I have written a small function to store our metrics in the dataframe."
   ]
  },
  {
   "cell_type": "code",
   "execution_count": 169,
   "metadata": {},
   "outputs": [],
   "source": [
    "def write_metrics(model_name,vector_name,test,predictions):\n",
    "    global performance\n",
    "    new_data = {'Model': model_name,\n",
    "                'Vectorization': vector_name,\n",
    "                'Accuracy': round(accuracy_score(test,predictions),4),\n",
    "                'Precision': round(precision_score(test,predictions, average='weighted'),4),\n",
    "                'Recall': round(recall_score(test,predictions, average='weighted'),4),\n",
    "                'F1 Score': round(f1_score(test,predictions, average='weighted'),4)}\n",
    "    performance = performance.append(new_data, ignore_index=True)"
   ]
  },
  {
   "cell_type": "markdown",
   "metadata": {},
   "source": [
    "### Model 1: Logistic Regression"
   ]
  },
  {
   "cell_type": "markdown",
   "metadata": {},
   "source": [
    "##### TF-IDF"
   ]
  },
  {
   "cell_type": "code",
   "execution_count": 170,
   "metadata": {},
   "outputs": [
    {
     "name": "stdout",
     "output_type": "stream",
     "text": [
      "              precision    recall  f1-score   support\n",
      "\n",
      "          -1       0.60      0.61      0.61       428\n",
      "           0       0.49      0.52      0.51       365\n",
      "           1       0.62      0.57      0.59       332\n",
      "\n",
      "    accuracy                           0.57      1125\n",
      "   macro avg       0.57      0.57      0.57      1125\n",
      "weighted avg       0.57      0.57      0.57      1125\n",
      "\n"
     ]
    },
    {
     "name": "stderr",
     "output_type": "stream",
     "text": [
      "C:\\Users\\utsav\\AppData\\Local\\Temp\\ipykernel_22920\\2285202385.py:9: FutureWarning: The frame.append method is deprecated and will be removed from pandas in a future version. Use pandas.concat instead.\n",
      "  performance = performance.append(new_data, ignore_index=True)\n"
     ]
    }
   ],
   "source": [
    "lr_model_tfidf = LogisticRegression(solver='saga',C=5,penalty='l2',random_state=44) #4=57%\n",
    "lr_model_tfidf.fit(X_train_vectors_tfidf, y_train)\n",
    "lr_tfidf_y_pred = lr_model_tfidf.predict(X_test_vectors_tfidf)\n",
    "print(classification_report(y_test,lr_tfidf_y_pred))\n",
    "write_metrics('Logistic Regression','TF-IDF',y_test,lr_tfidf_y_pred)"
   ]
  },
  {
   "cell_type": "markdown",
   "metadata": {},
   "source": [
    "##### Word2Vec:"
   ]
  },
  {
   "cell_type": "code",
   "execution_count": 171,
   "metadata": {},
   "outputs": [
    {
     "name": "stdout",
     "output_type": "stream",
     "text": [
      "              precision    recall  f1-score   support\n",
      "\n",
      "          -1       0.52      0.54      0.53       428\n",
      "           0       0.43      0.49      0.46       365\n",
      "           1       0.58      0.46      0.51       332\n",
      "\n",
      "    accuracy                           0.50      1125\n",
      "   macro avg       0.51      0.50      0.50      1125\n",
      "weighted avg       0.51      0.50      0.50      1125\n",
      "\n"
     ]
    },
    {
     "name": "stderr",
     "output_type": "stream",
     "text": [
      "C:\\Users\\utsav\\AppData\\Local\\Temp\\ipykernel_22920\\2285202385.py:9: FutureWarning: The frame.append method is deprecated and will be removed from pandas in a future version. Use pandas.concat instead.\n",
      "  performance = performance.append(new_data, ignore_index=True)\n"
     ]
    }
   ],
   "source": [
    "lr_model_w2v = LogisticRegression(solver='liblinear',C=10,penalty='l2',random_state=4) #4=57%\n",
    "lr_model_w2v.fit(X_train_vectors_w2v, y_train)\n",
    "lr_w2v_y_pred = lr_model_w2v.predict(X_test_vectors_w2v)\n",
    "print(classification_report(y_test,lr_w2v_y_pred))\n",
    "write_metrics('Logistic Regression','Word2Vec',y_test,lr_w2v_y_pred)"
   ]
  },
  {
   "cell_type": "markdown",
   "metadata": {},
   "source": [
    "### Model 2: Naive Bayes"
   ]
  },
  {
   "cell_type": "markdown",
   "metadata": {},
   "source": [
    "##### TF-IDF:"
   ]
  },
  {
   "cell_type": "code",
   "execution_count": 172,
   "metadata": {},
   "outputs": [
    {
     "name": "stdout",
     "output_type": "stream",
     "text": [
      "              precision    recall  f1-score   support\n",
      "\n",
      "          -1       0.60      0.65      0.63       428\n",
      "           0       0.49      0.54      0.52       365\n",
      "           1       0.67      0.53      0.59       332\n",
      "\n",
      "    accuracy                           0.58      1125\n",
      "   macro avg       0.59      0.58      0.58      1125\n",
      "weighted avg       0.59      0.58      0.58      1125\n",
      "\n"
     ]
    },
    {
     "name": "stderr",
     "output_type": "stream",
     "text": [
      "C:\\Users\\utsav\\AppData\\Local\\Temp\\ipykernel_22920\\2285202385.py:9: FutureWarning: The frame.append method is deprecated and will be removed from pandas in a future version. Use pandas.concat instead.\n",
      "  performance = performance.append(new_data, ignore_index=True)\n"
     ]
    }
   ],
   "source": [
    "nb_tfidf_model = MultinomialNB()\n",
    "nb_tfidf_model.fit(X_train_vectors_tfidf, y_train)\n",
    "nb_tfidf_y_pred = nb_tfidf_model.predict(X_test_vectors_tfidf)\n",
    "print(classification_report(y_test,nb_tfidf_y_pred))\n",
    "write_metrics('Naive Bayes','TF-IDF',y_test,nb_tfidf_y_pred)"
   ]
  },
  {
   "cell_type": "markdown",
   "metadata": {},
   "source": [
    "##### Word2Vec:"
   ]
  },
  {
   "cell_type": "code",
   "execution_count": 173,
   "metadata": {},
   "outputs": [
    {
     "name": "stdout",
     "output_type": "stream",
     "text": [
      "              precision    recall  f1-score   support\n",
      "\n",
      "          -1       0.45      0.47      0.46       428\n",
      "           0       0.32      0.25      0.28       365\n",
      "           1       0.40      0.47      0.43       332\n",
      "\n",
      "    accuracy                           0.40      1125\n",
      "   macro avg       0.39      0.40      0.39      1125\n",
      "weighted avg       0.39      0.40      0.39      1125\n",
      "\n"
     ]
    },
    {
     "name": "stderr",
     "output_type": "stream",
     "text": [
      "C:\\Users\\utsav\\AppData\\Local\\Temp\\ipykernel_22920\\2285202385.py:9: FutureWarning: The frame.append method is deprecated and will be removed from pandas in a future version. Use pandas.concat instead.\n",
      "  performance = performance.append(new_data, ignore_index=True)\n"
     ]
    }
   ],
   "source": [
    "nb_w2v_model = MultinomialNB()\n",
    "nb_w2v_model.fit(X_train_vectors_w2v, y_train)\n",
    "nb_w2v_y_pred = nb_w2v_model.predict(X_test_vectors_w2v)\n",
    "print(classification_report(y_test,nb_w2v_y_pred))\n",
    "write_metrics('Naive Bayes','Word2Vec',y_test,nb_w2v_y_pred)"
   ]
  },
  {
   "cell_type": "markdown",
   "metadata": {},
   "source": [
    "### Model 3: SVM"
   ]
  },
  {
   "cell_type": "markdown",
   "metadata": {},
   "source": [
    "##### TF-IDF:"
   ]
  },
  {
   "cell_type": "code",
   "execution_count": 174,
   "metadata": {},
   "outputs": [
    {
     "name": "stdout",
     "output_type": "stream",
     "text": [
      "              precision    recall  f1-score   support\n",
      "\n",
      "          -1       0.61      0.62      0.61       428\n",
      "           0       0.50      0.53      0.51       365\n",
      "           1       0.63      0.58      0.61       332\n",
      "\n",
      "    accuracy                           0.58      1125\n",
      "   macro avg       0.58      0.58      0.58      1125\n",
      "weighted avg       0.58      0.58      0.58      1125\n",
      "\n"
     ]
    },
    {
     "name": "stderr",
     "output_type": "stream",
     "text": [
      "C:\\Users\\utsav\\AppData\\Local\\Temp\\ipykernel_22920\\2285202385.py:9: FutureWarning: The frame.append method is deprecated and will be removed from pandas in a future version. Use pandas.concat instead.\n",
      "  performance = performance.append(new_data, ignore_index=True)\n"
     ]
    }
   ],
   "source": [
    "svm_tfidf_model = svm.SVC(kernel='linear', random_state=1564)\n",
    "svm_tfidf_model.fit(X_train_vectors_tfidf, y_train)\n",
    "svm_tfidf_y_pred = svm_tfidf_model.predict(X_test_vectors_tfidf)\n",
    "print(classification_report(y_test,svm_tfidf_y_pred))\n",
    "write_metrics('SVM','TF-IDF',y_test,svm_tfidf_y_pred)"
   ]
  },
  {
   "cell_type": "markdown",
   "metadata": {},
   "source": [
    "##### Word2Vec:"
   ]
  },
  {
   "cell_type": "code",
   "execution_count": 175,
   "metadata": {},
   "outputs": [
    {
     "name": "stdout",
     "output_type": "stream",
     "text": [
      "              precision    recall  f1-score   support\n",
      "\n",
      "          -1       0.51      0.52      0.52       428\n",
      "           0       0.39      0.52      0.45       365\n",
      "           1       0.60      0.36      0.45       332\n",
      "\n",
      "    accuracy                           0.47      1125\n",
      "   macro avg       0.50      0.47      0.47      1125\n",
      "weighted avg       0.50      0.47      0.47      1125\n",
      "\n"
     ]
    },
    {
     "name": "stderr",
     "output_type": "stream",
     "text": [
      "C:\\Users\\utsav\\AppData\\Local\\Temp\\ipykernel_22920\\2285202385.py:9: FutureWarning: The frame.append method is deprecated and will be removed from pandas in a future version. Use pandas.concat instead.\n",
      "  performance = performance.append(new_data, ignore_index=True)\n"
     ]
    }
   ],
   "source": [
    "svm_w2v_model = svm.SVC(kernel='linear', random_state=4)\n",
    "svm_w2v_model.fit(X_train_vectors_w2v, y_train)\n",
    "svm_w2v_y_pred = svm_w2v_model.predict(X_test_vectors_w2v)\n",
    "print(classification_report(y_test,svm_w2v_y_pred))\n",
    "write_metrics('SVM','Word2Vec',y_test,svm_w2v_y_pred)"
   ]
  },
  {
   "cell_type": "markdown",
   "metadata": {},
   "source": [
    "### Model 4: KNN"
   ]
  },
  {
   "cell_type": "markdown",
   "metadata": {},
   "source": [
    "##### TF-IDF:"
   ]
  },
  {
   "cell_type": "code",
   "execution_count": 176,
   "metadata": {},
   "outputs": [
    {
     "name": "stdout",
     "output_type": "stream",
     "text": [
      "              precision    recall  f1-score   support\n",
      "\n",
      "          -1       0.67      0.32      0.43       428\n",
      "           0       0.50      0.45      0.48       365\n",
      "           1       0.43      0.77      0.55       332\n",
      "\n",
      "    accuracy                           0.50      1125\n",
      "   macro avg       0.53      0.51      0.49      1125\n",
      "weighted avg       0.54      0.50      0.48      1125\n",
      "\n"
     ]
    },
    {
     "name": "stderr",
     "output_type": "stream",
     "text": [
      "C:\\Users\\utsav\\AppData\\Local\\Temp\\ipykernel_22920\\2285202385.py:9: FutureWarning: The frame.append method is deprecated and will be removed from pandas in a future version. Use pandas.concat instead.\n",
      "  performance = performance.append(new_data, ignore_index=True)\n"
     ]
    }
   ],
   "source": [
    "knn_tfidf = KNeighborsClassifier()#create a dictionary of all values we want to test for n_neighbors\n",
    "param_grid = {'n_neighbors': np.arange(1, 25)}#use gridsearch to test all values for n_neighbors\n",
    "knn_tfidf_gscv = GridSearchCV(knn_tfidf, param_grid, cv=5)#fit model to data\n",
    "clf = knn_tfidf_gscv.fit(X_train_vectors_tfidf, y_train)\n",
    "knn_tfidf_y_pred = clf.predict(X_test_vectors_tfidf)\n",
    "print(classification_report(y_test,knn_tfidf_y_pred))\n",
    "write_metrics('KNN','TF-IDF',y_test,knn_tfidf_y_pred)"
   ]
  },
  {
   "cell_type": "markdown",
   "metadata": {},
   "source": [
    "#### Word2Vec:"
   ]
  },
  {
   "cell_type": "code",
   "execution_count": 177,
   "metadata": {},
   "outputs": [
    {
     "name": "stdout",
     "output_type": "stream",
     "text": [
      "              precision    recall  f1-score   support\n",
      "\n",
      "          -1       0.46      0.59      0.52       428\n",
      "           0       0.36      0.37      0.37       365\n",
      "           1       0.46      0.30      0.36       332\n",
      "\n",
      "    accuracy                           0.43      1125\n",
      "   macro avg       0.43      0.42      0.42      1125\n",
      "weighted avg       0.43      0.43      0.42      1125\n",
      "\n"
     ]
    },
    {
     "name": "stderr",
     "output_type": "stream",
     "text": [
      "C:\\Users\\utsav\\AppData\\Local\\Temp\\ipykernel_22920\\2285202385.py:9: FutureWarning: The frame.append method is deprecated and will be removed from pandas in a future version. Use pandas.concat instead.\n",
      "  performance = performance.append(new_data, ignore_index=True)\n"
     ]
    }
   ],
   "source": [
    "knn_w2v = KNeighborsClassifier()#create a dictionary of all values we want to test for n_neighbors\n",
    "param_grid = {'n_neighbors': np.arange(1, 25)}#use gridsearch to test all values for n_neighbors\n",
    "knn_w2v_gscv = GridSearchCV(knn_w2v, param_grid, cv=5)#fit model to data\n",
    "clf_w2v = knn_w2v_gscv.fit(X_train_vectors_w2v, y_train)\n",
    "knn_w2v_y_pred = clf_w2v.predict(X_test_vectors_w2v)\n",
    "print(classification_report(y_test,knn_w2v_y_pred))\n",
    "write_metrics('KNN','Word2Vec',y_test,knn_w2v_y_pred)"
   ]
  },
  {
   "cell_type": "code",
   "execution_count": 178,
   "metadata": {},
   "outputs": [
    {
     "data": {
      "text/html": [
       "<div>\n",
       "<style scoped>\n",
       "    .dataframe tbody tr th:only-of-type {\n",
       "        vertical-align: middle;\n",
       "    }\n",
       "\n",
       "    .dataframe tbody tr th {\n",
       "        vertical-align: top;\n",
       "    }\n",
       "\n",
       "    .dataframe thead th {\n",
       "        text-align: right;\n",
       "    }\n",
       "</style>\n",
       "<table border=\"1\" class=\"dataframe\">\n",
       "  <thead>\n",
       "    <tr style=\"text-align: right;\">\n",
       "      <th></th>\n",
       "      <th>Model</th>\n",
       "      <th>Vectorization</th>\n",
       "      <th>Accuracy</th>\n",
       "      <th>Precision</th>\n",
       "      <th>Recall</th>\n",
       "      <th>F1 Score</th>\n",
       "    </tr>\n",
       "  </thead>\n",
       "  <tbody>\n",
       "    <tr>\n",
       "      <th>0</th>\n",
       "      <td>Logistic Regression</td>\n",
       "      <td>TF-IDF</td>\n",
       "      <td>0.5698</td>\n",
       "      <td>0.5726</td>\n",
       "      <td>0.5698</td>\n",
       "      <td>0.5706</td>\n",
       "    </tr>\n",
       "    <tr>\n",
       "      <th>1</th>\n",
       "      <td>Logistic Regression</td>\n",
       "      <td>Word2Vec</td>\n",
       "      <td>0.5013</td>\n",
       "      <td>0.5096</td>\n",
       "      <td>0.5013</td>\n",
       "      <td>0.5026</td>\n",
       "    </tr>\n",
       "    <tr>\n",
       "      <th>2</th>\n",
       "      <td>Naive Bayes</td>\n",
       "      <td>TF-IDF</td>\n",
       "      <td>0.5804</td>\n",
       "      <td>0.5880</td>\n",
       "      <td>0.5804</td>\n",
       "      <td>0.5812</td>\n",
       "    </tr>\n",
       "    <tr>\n",
       "      <th>3</th>\n",
       "      <td>Naive Bayes</td>\n",
       "      <td>Word2Vec</td>\n",
       "      <td>0.3991</td>\n",
       "      <td>0.3921</td>\n",
       "      <td>0.3991</td>\n",
       "      <td>0.3929</td>\n",
       "    </tr>\n",
       "    <tr>\n",
       "      <th>4</th>\n",
       "      <td>SVM</td>\n",
       "      <td>TF-IDF</td>\n",
       "      <td>0.5787</td>\n",
       "      <td>0.5810</td>\n",
       "      <td>0.5787</td>\n",
       "      <td>0.5794</td>\n",
       "    </tr>\n",
       "    <tr>\n",
       "      <th>5</th>\n",
       "      <td>SVM</td>\n",
       "      <td>Word2Vec</td>\n",
       "      <td>0.4738</td>\n",
       "      <td>0.4980</td>\n",
       "      <td>0.4738</td>\n",
       "      <td>0.4742</td>\n",
       "    </tr>\n",
       "    <tr>\n",
       "      <th>6</th>\n",
       "      <td>KNN</td>\n",
       "      <td>TF-IDF</td>\n",
       "      <td>0.4951</td>\n",
       "      <td>0.5432</td>\n",
       "      <td>0.4951</td>\n",
       "      <td>0.4821</td>\n",
       "    </tr>\n",
       "    <tr>\n",
       "      <th>7</th>\n",
       "      <td>KNN</td>\n",
       "      <td>Word2Vec</td>\n",
       "      <td>0.4302</td>\n",
       "      <td>0.4302</td>\n",
       "      <td>0.4302</td>\n",
       "      <td>0.4224</td>\n",
       "    </tr>\n",
       "  </tbody>\n",
       "</table>\n",
       "</div>"
      ],
      "text/plain": [
       "                 Model Vectorization  Accuracy  Precision  Recall  F1 Score\n",
       "0  Logistic Regression        TF-IDF    0.5698     0.5726  0.5698    0.5706\n",
       "1  Logistic Regression      Word2Vec    0.5013     0.5096  0.5013    0.5026\n",
       "2          Naive Bayes        TF-IDF    0.5804     0.5880  0.5804    0.5812\n",
       "3          Naive Bayes      Word2Vec    0.3991     0.3921  0.3991    0.3929\n",
       "4                  SVM        TF-IDF    0.5787     0.5810  0.5787    0.5794\n",
       "5                  SVM      Word2Vec    0.4738     0.4980  0.4738    0.4742\n",
       "6                  KNN        TF-IDF    0.4951     0.5432  0.4951    0.4821\n",
       "7                  KNN      Word2Vec    0.4302     0.4302  0.4302    0.4224"
      ]
     },
     "execution_count": 178,
     "metadata": {},
     "output_type": "execute_result"
    }
   ],
   "source": [
    "performance.head(10)"
   ]
  },
  {
   "cell_type": "markdown",
   "metadata": {},
   "source": [
    "### Model 5: Voting Classifier"
   ]
  },
  {
   "cell_type": "markdown",
   "metadata": {},
   "source": [
    "From this performance data, we can see that Logistic Regression, Naive Bayes and SVM have performance that is very close. Therefore, I use a Voting Classifier to create a model that predicts based on the votes from all 3 of these."
   ]
  },
  {
   "cell_type": "code",
   "execution_count": 179,
   "metadata": {},
   "outputs": [
    {
     "name": "stdout",
     "output_type": "stream",
     "text": [
      "              precision    recall  f1-score   support\n",
      "\n",
      "          -1       0.61      0.63      0.62       428\n",
      "           0       0.49      0.52      0.51       365\n",
      "           1       0.62      0.57      0.59       332\n",
      "\n",
      "    accuracy                           0.57      1125\n",
      "   macro avg       0.58      0.57      0.57      1125\n",
      "weighted avg       0.58      0.57      0.57      1125\n",
      "\n"
     ]
    }
   ],
   "source": [
    "estimator = [] \n",
    "estimator.append(('LR', LogisticRegression(solver='saga',C=5,penalty='l2',random_state=44))) \n",
    "estimator.append(('Naive Bayes', MultinomialNB())) \n",
    "estimator.append(('SVM', svm.SVC(kernel='linear', random_state=4, probability=True)))\n",
    "voting = VotingClassifier(estimators = estimator, voting ='soft') \n",
    "voting.fit(X_train_vectors_tfidf, y_train) \n",
    "y_pred_vot = voting.predict(X_test_vectors_tfidf) \n",
    "print(classification_report(y_test,y_pred_vot))"
   ]
  },
  {
   "cell_type": "markdown",
   "metadata": {},
   "source": [
    "## Semi-Supervised:"
   ]
  },
  {
   "cell_type": "markdown",
   "metadata": {},
   "source": [
    "As we can see from the statistics, we achieve a 57% accuracy using our Voting classifier. But, can we improve things further?<br>\n",
    "If we look back to the start of this notebook, we dropped all records that were not in the classes -1, 0 and 1.<br>\n",
    "However, that means we lose out on 1,544 records that are labelled as class 2 (mixed). These tweets express both positive and negative opinions.<br>\n",
    "In our problem statement, we are only concered with the classes -1, 0 and 1. \n",
    "So, what if we were to perform semi-supervised learning and treat these as unlabelled data?"
   ]
  },
  {
   "cell_type": "code",
   "execution_count": 180,
   "metadata": {},
   "outputs": [
    {
     "name": "stdout",
     "output_type": "stream",
     "text": [
      "(1544, 2)\n"
     ]
    },
    {
     "data": {
      "text/html": [
       "<div>\n",
       "<style scoped>\n",
       "    .dataframe tbody tr th:only-of-type {\n",
       "        vertical-align: middle;\n",
       "    }\n",
       "\n",
       "    .dataframe tbody tr th {\n",
       "        vertical-align: top;\n",
       "    }\n",
       "\n",
       "    .dataframe thead th {\n",
       "        text-align: right;\n",
       "    }\n",
       "</style>\n",
       "<table border=\"1\" class=\"dataframe\">\n",
       "  <thead>\n",
       "    <tr style=\"text-align: right;\">\n",
       "      <th></th>\n",
       "      <th>tweet</th>\n",
       "      <th>class</th>\n",
       "    </tr>\n",
       "  </thead>\n",
       "  <tbody>\n",
       "    <tr>\n",
       "      <th>2</th>\n",
       "      <td>question romney obama child mitt punch five ob...</td>\n",
       "      <td>2</td>\n",
       "    </tr>\n",
       "    <tr>\n",
       "      <th>4</th>\n",
       "      <td>slate blame obama four death libya blame bush ...</td>\n",
       "      <td>2</td>\n",
       "    </tr>\n",
       "    <tr>\n",
       "      <th>6</th>\n",
       "      <td>mitt romney make money barack obama make money...</td>\n",
       "      <td>2</td>\n",
       "    </tr>\n",
       "    <tr>\n",
       "      <th>9</th>\n",
       "      <td>tonight debate game feel pres obama call romne...</td>\n",
       "      <td>2</td>\n",
       "    </tr>\n",
       "    <tr>\n",
       "      <th>12</th>\n",
       "      <td>guy rather obama critique romney tax plan</td>\n",
       "      <td>2</td>\n",
       "    </tr>\n",
       "  </tbody>\n",
       "</table>\n",
       "</div>"
      ],
      "text/plain": [
       "                                                tweet  class\n",
       "2   question romney obama child mitt punch five ob...      2\n",
       "4   slate blame obama four death libya blame bush ...      2\n",
       "6   mitt romney make money barack obama make money...      2\n",
       "9   tonight debate game feel pres obama call romne...      2\n",
       "12          guy rather obama critique romney tax plan      2"
      ]
     },
     "execution_count": 180,
     "metadata": {},
     "output_type": "execute_result"
    }
   ],
   "source": [
    "obama_mixed = obama[obama['class'].isin(['2',2])].copy(deep=True)\n",
    "obama_mixed['class']=obama_mixed['class'].astype(int)\n",
    "obama_mixed['tweet_token'] = obama_mixed['tweet'].apply(lambda stext: tokenize(str(stext)))\n",
    "\n",
    "#remove words with length less than 2\n",
    "obama_mixed['tweet_string'] = obama_mixed['tweet_token'].apply(lambda x:' '.join([item for item in x if len(item)>2]))\n",
    "\n",
    "all_words = ' '.join([text for text in obama_mixed['tweet_string']])\n",
    "tokenized_obama_mixed = nltk.tokenize.word_tokenize(all_words)\n",
    "fdist = FreqDist(tokenized_obama_mixed)\n",
    "obama_mixed['tweet_string_fdist'] = obama_mixed['tweet_token'].apply(lambda x: ' '.join([item for item in x if fdist[item] > 1 ]))\n",
    "\n",
    "obama_mixed['tweet'] = obama_mixed['tweet_string_fdist'].apply(lambda x: lemmatiser(x))\n",
    "obama_mixed.head(5)\n",
    "obama_mixed = obama_mixed.drop(['tweet_token', 'tweet_string', 'tweet_string_fdist'], axis=1)\n",
    "obama_mixed.dropna(inplace=True)\n",
    "obama_mixed.drop(['class'], axis=1)\n",
    "print(obama_mixed.shape)\n",
    "obama_mixed.head(5)"
   ]
  },
  {
   "cell_type": "markdown",
   "metadata": {},
   "source": [
    "Creating TF-IDF vectors of these records,"
   ]
  },
  {
   "cell_type": "code",
   "execution_count": 181,
   "metadata": {},
   "outputs": [],
   "source": [
    "mixed_vectors_tfidf = tfidf_vectorizer.transform(obama_mixed['tweet'])"
   ]
  },
  {
   "cell_type": "markdown",
   "metadata": {},
   "source": [
    "We predict the classes for these records."
   ]
  },
  {
   "cell_type": "code",
   "execution_count": 182,
   "metadata": {},
   "outputs": [
    {
     "name": "stdout",
     "output_type": "stream",
     "text": [
      "[ 0 -1  0 ...  1  0  1]\n"
     ]
    }
   ],
   "source": [
    "mixed_y_pred = voting.predict(mixed_vectors_tfidf)\n",
    "print(mixed_y_pred)"
   ]
  },
  {
   "cell_type": "markdown",
   "metadata": {},
   "source": [
    "We add these classes to our `obama_mixed` dataframe,"
   ]
  },
  {
   "cell_type": "code",
   "execution_count": 183,
   "metadata": {},
   "outputs": [
    {
     "data": {
      "text/html": [
       "<div>\n",
       "<style scoped>\n",
       "    .dataframe tbody tr th:only-of-type {\n",
       "        vertical-align: middle;\n",
       "    }\n",
       "\n",
       "    .dataframe tbody tr th {\n",
       "        vertical-align: top;\n",
       "    }\n",
       "\n",
       "    .dataframe thead th {\n",
       "        text-align: right;\n",
       "    }\n",
       "</style>\n",
       "<table border=\"1\" class=\"dataframe\">\n",
       "  <thead>\n",
       "    <tr style=\"text-align: right;\">\n",
       "      <th></th>\n",
       "      <th>tweet</th>\n",
       "      <th>class</th>\n",
       "    </tr>\n",
       "  </thead>\n",
       "  <tbody>\n",
       "    <tr>\n",
       "      <th>2</th>\n",
       "      <td>question romney obama child mitt punch five ob...</td>\n",
       "      <td>0</td>\n",
       "    </tr>\n",
       "    <tr>\n",
       "      <th>4</th>\n",
       "      <td>slate blame obama four death libya blame bush ...</td>\n",
       "      <td>-1</td>\n",
       "    </tr>\n",
       "    <tr>\n",
       "      <th>6</th>\n",
       "      <td>mitt romney make money barack obama make money...</td>\n",
       "      <td>0</td>\n",
       "    </tr>\n",
       "    <tr>\n",
       "      <th>9</th>\n",
       "      <td>tonight debate game feel pres obama call romne...</td>\n",
       "      <td>0</td>\n",
       "    </tr>\n",
       "    <tr>\n",
       "      <th>12</th>\n",
       "      <td>guy rather obama critique romney tax plan</td>\n",
       "      <td>0</td>\n",
       "    </tr>\n",
       "  </tbody>\n",
       "</table>\n",
       "</div>"
      ],
      "text/plain": [
       "                                                tweet  class\n",
       "2   question romney obama child mitt punch five ob...      0\n",
       "4   slate blame obama four death libya blame bush ...     -1\n",
       "6   mitt romney make money barack obama make money...      0\n",
       "9   tonight debate game feel pres obama call romne...      0\n",
       "12          guy rather obama critique romney tax plan      0"
      ]
     },
     "execution_count": 183,
     "metadata": {},
     "output_type": "execute_result"
    }
   ],
   "source": [
    "obama_mixed['class'] = mixed_y_pred\n",
    "obama_mixed.head()"
   ]
  },
  {
   "cell_type": "markdown",
   "metadata": {},
   "source": [
    "And merge these records with our existing dataframe `obama_df`,"
   ]
  },
  {
   "cell_type": "code",
   "execution_count": 184,
   "metadata": {},
   "outputs": [
    {
     "data": {
      "text/plain": [
       "(7168, 2)"
      ]
     },
     "execution_count": 184,
     "metadata": {},
     "output_type": "execute_result"
    }
   ],
   "source": [
    "obama_merged = obama_df.merge(obama_mixed, how='outer')\n",
    "obama_merged.shape"
   ]
  },
  {
   "cell_type": "markdown",
   "metadata": {},
   "source": [
    "Now, we retrain our Voting Classifier on this new dataset:"
   ]
  },
  {
   "cell_type": "code",
   "execution_count": 185,
   "metadata": {},
   "outputs": [],
   "source": [
    "ss_df_X = obama_merged['tweet']\n",
    "ss_df_Y = obama_merged['class']\n",
    "ss_X_train, ss_X_test, ss_y_train, ss_y_test = train_test_split(ss_df_X,ss_df_Y,test_size=0.2,random_state = 1551)"
   ]
  },
  {
   "cell_type": "code",
   "execution_count": 186,
   "metadata": {},
   "outputs": [],
   "source": [
    "ss_X_train_vectors_tfidf = tfidf_vectorizer.fit_transform(ss_X_train)\n",
    "ss_X_test_vectors_tfidf = tfidf_vectorizer.transform(ss_X_test)"
   ]
  },
  {
   "cell_type": "code",
   "execution_count": 187,
   "metadata": {},
   "outputs": [
    {
     "name": "stdout",
     "output_type": "stream",
     "text": [
      "              precision    recall  f1-score   support\n",
      "\n",
      "          -1       0.67      0.62      0.64       463\n",
      "           0       0.65      0.74      0.69       580\n",
      "           1       0.71      0.63      0.67       391\n",
      "\n",
      "    accuracy                           0.67      1434\n",
      "   macro avg       0.68      0.66      0.67      1434\n",
      "weighted avg       0.67      0.67      0.67      1434\n",
      "\n"
     ]
    }
   ],
   "source": [
    "estimator_ss = [] \n",
    "estimator_ss.append(('LR', LogisticRegression(solver='saga',C=5,penalty='l2',random_state=44))) \n",
    "estimator_ss.append(('Naive Bayes', MultinomialNB())) \n",
    "estimator_ss.append(('SVM', svm.SVC(kernel='linear', random_state=4, probability=True))) \n",
    "voting.fit(ss_X_train_vectors_tfidf, ss_y_train) \n",
    "y_pred_vot_ss = voting.predict(ss_X_test_vectors_tfidf) \n",
    "print(classification_report(ss_y_test,y_pred_vot_ss))"
   ]
  },
  {
   "cell_type": "markdown",
   "metadata": {},
   "source": [
    "This achieves 67% accuracy for the model."
   ]
  },
  {
   "cell_type": "markdown",
   "metadata": {},
   "source": [
    "## Sample Data"
   ]
  },
  {
   "cell_type": "markdown",
   "metadata": {},
   "source": [
    "Now that the model is ready, we can load, clean and tokenize the sample data excel."
   ]
  },
  {
   "cell_type": "code",
   "execution_count": 188,
   "metadata": {},
   "outputs": [
    {
     "name": "stdout",
     "output_type": "stream",
     "text": [
      "(5625, 2)\n"
     ]
    },
    {
     "data": {
      "text/html": [
       "<div>\n",
       "<style scoped>\n",
       "    .dataframe tbody tr th:only-of-type {\n",
       "        vertical-align: middle;\n",
       "    }\n",
       "\n",
       "    .dataframe tbody tr th {\n",
       "        vertical-align: top;\n",
       "    }\n",
       "\n",
       "    .dataframe thead th {\n",
       "        text-align: right;\n",
       "    }\n",
       "</style>\n",
       "<table border=\"1\" class=\"dataframe\">\n",
       "  <thead>\n",
       "    <tr style=\"text-align: right;\">\n",
       "      <th></th>\n",
       "      <th>tweet</th>\n",
       "      <th>class</th>\n",
       "    </tr>\n",
       "  </thead>\n",
       "  <tbody>\n",
       "    <tr>\n",
       "      <th>1</th>\n",
       "      <td>wore cap barack obama signature look jason jou...</td>\n",
       "      <td>0</td>\n",
       "    </tr>\n",
       "    <tr>\n",
       "      <th>3</th>\n",
       "      <td>obama debate cracker as cracker tonight</td>\n",
       "      <td>1</td>\n",
       "    </tr>\n",
       "    <tr>\n",
       "      <th>5</th>\n",
       "      <td>miss point afraid understand big picture dont ...</td>\n",
       "      <td>0</td>\n",
       "    </tr>\n",
       "    <tr>\n",
       "      <th>7</th>\n",
       "      <td>raise democrat leave party year ago never see ...</td>\n",
       "      <td>-1</td>\n",
       "    </tr>\n",
       "    <tr>\n",
       "      <th>8</th>\n",
       "      <td>obama camp afford low expectation tonight deba...</td>\n",
       "      <td>0</td>\n",
       "    </tr>\n",
       "  </tbody>\n",
       "</table>\n",
       "</div>"
      ],
      "text/plain": [
       "                                               tweet  class\n",
       "1  wore cap barack obama signature look jason jou...      0\n",
       "3            obama debate cracker as cracker tonight      1\n",
       "5  miss point afraid understand big picture dont ...      0\n",
       "7  raise democrat leave party year ago never see ...     -1\n",
       "8  obama camp afford low expectation tonight deba...      0"
      ]
     },
     "execution_count": 188,
     "metadata": {},
     "output_type": "execute_result"
    }
   ],
   "source": [
    "#data loading\n",
    "sample_data = pd.ExcelFile(sample_data_excel)\n",
    "sample_obama = pd.read_excel(sample_data, sample_data_sheet)\n",
    "#print(sample_obama.shape)\n",
    "#print(sample_obama.head(5))\n",
    "if(len(sample_obama.columns) == 6):\n",
    "    sample_obama = sample_obama[1:]\n",
    "    sample_obama = sample_obama.drop(['Unnamed: 0', 'date', 'time', 'Unnamed: 5'], axis=1)\n",
    "    sample_obama = sample_obama.rename(columns={'Unnamed: 4': 'class', 'Anootated tweet': 'tweet'})\n",
    "    sample_obama = sample_obama[sample_obama['class'].isin(['-1', '0', '1',-1,0,1])]\n",
    "    sample_obama['class']=sample_obama['class'].astype(int)\n",
    "    #create a copy to use for printing to output file\n",
    "    output_data = sample_obama.copy(deep=True)\n",
    "    sample_obama['tweet_token'] = sample_obama['tweet'].apply(lambda stext: tokenize(str(stext)))\n",
    "    #remove words with length less than 2\n",
    "    sample_obama['tweet_string'] = sample_obama['tweet_token'].apply(lambda x:' '.join([item for item in x if len(item)>2]))\n",
    "    #Find a frequency distribution, and remove words with frequency less than 1\n",
    "    all_words = ' '.join([text for text in sample_obama['tweet_string']])\n",
    "    tokenized_sample_obama = nltk.tokenize.word_tokenize(all_words)\n",
    "    fdist = FreqDist(tokenized_sample_obama)\n",
    "    sample_obama['tweet_string_fdist'] = sample_obama['tweet_token'].apply(lambda x: ' '.join([item for item in x if fdist[item] > 1 ]))\n",
    "    sample_obama['tweet'] = sample_obama['tweet_string_fdist'].apply(lambda x: lemmatiser(x))\n",
    "    #sample_obama.head(5)\n",
    "    sample_obama = sample_obama.drop(['tweet_token', 'tweet_string', 'tweet_string_fdist'], axis=1)\n",
    "    sample_obama.dropna(inplace=True)\n",
    "    #print(sample_obama.shape)\n",
    "    #sample_obama.head(5)\n",
    "    sample_df_X = sample_obama['tweet']\n",
    "    sample_df_Y = sample_obama['class']\n",
    "elif(len(sample_obama.columns) == 2):\n",
    "    sample_obama = pd.read_excel(sample_data, sample_data_sheet,header=None)\n",
    "    sample_obama.drop(sample_obama.columns[0], axis=1, inplace=True)\n",
    "    sample_obama.columns = ['tweet']\n",
    "    output_data = sample_obama.copy(deep=True)\n",
    "    sample_obama['tweet_token'] = sample_obama['tweet'].apply(lambda stext: tokenize(str(stext)))\n",
    "    #remove words with length less than 2\n",
    "    sample_obama['tweet_string'] = sample_obama['tweet_token'].apply(lambda x:' '.join([item for item in x if len(item)>2]))\n",
    "    #Find a frequency distribution, and remove words with frequency less than 1\n",
    "    all_words = ' '.join([text for text in sample_obama['tweet_string']])\n",
    "    tokenized_sample_obama = nltk.tokenize.word_tokenize(all_words)\n",
    "    fdist = FreqDist(tokenized_sample_obama)\n",
    "    sample_obama['tweet_string_fdist'] = sample_obama['tweet_token'].apply(lambda x: ' '.join([item for item in x if fdist[item] > 1 ]))\n",
    "    sample_obama['tweet'] = sample_obama['tweet_string_fdist'].apply(lambda x: lemmatiser(x))\n",
    "    #sample_obama.head(5)\n",
    "    sample_obama = sample_obama.drop(['tweet_token', 'tweet_string', 'tweet_string_fdist'], axis=1)\n",
    "    sample_obama.dropna(inplace=True)\n",
    "    #print(sample_obama.shape)\n",
    "    #sample_obama.head(5)\n",
    "    sample_df_X = sample_obama['tweet']\n",
    "else:\n",
    "    print(\"Invalid columns - check the excel file\")\n",
    "X_sample_vectors = tfidf_vectorizer.transform(sample_df_X)\n",
    "print(sample_obama.shape)\n",
    "sample_obama.head(5)"
   ]
  },
  {
   "cell_type": "code",
   "execution_count": 189,
   "metadata": {},
   "outputs": [],
   "source": [
    "# #data loading\n",
    "# sample_data = pd.ExcelFile(sample_data_excel)\n",
    "# sample_obama = pd.read_excel(sample_data, sample_data_sheet)\n",
    "# sample_obama = sample_obama[1:]\n",
    "# sample_obama = sample_obama.drop(['Unnamed: 0', 'date', 'time', 'Unnamed: 5'], axis=1)\n",
    "# sample_obama = sample_obama.rename(columns={'Unnamed: 4': 'class', 'Anootated tweet': 'tweet'})\n",
    "# sample_obama.head(5)\n",
    "# sample_obama = sample_obama[sample_obama['class'].isin(['-1', '0', '1',-1,0,1])]\n",
    "# sample_obama['class']=sample_obama['class'].astype(int)\n",
    "# #create a copy to use for printing to output file\n",
    "# output_data = sample_obama.copy(deep=True)\n",
    "# sample_obama['tweet_token'] = sample_obama['tweet'].apply(lambda stext: tokenize(str(stext)))\n",
    "# #remove words with length less than 2\n",
    "# sample_obama['tweet_string'] = sample_obama['tweet_token'].apply(lambda x:' '.join([item for item in x if len(item)>2]))\n",
    "# #Find a frequency distribution, and remove words with frequency less than 1\n",
    "# all_words = ' '.join([text for text in sample_obama['tweet_string']])\n",
    "# tokenized_sample_obama = nltk.tokenize.word_tokenize(all_words)\n",
    "# fdist = FreqDist(tokenized_sample_obama)\n",
    "# sample_obama['tweet_string_fdist'] = sample_obama['tweet_token'].apply(lambda x: ' '.join([item for item in x if fdist[item] > 1 ]))\n",
    "# sample_obama['tweet'] = sample_obama['tweet_string_fdist'].apply(lambda x: lemmatiser(x))\n",
    "# sample_obama.head(5)\n",
    "# sample_obama = sample_obama.drop(['tweet_token', 'tweet_string', 'tweet_string_fdist'], axis=1)\n",
    "# sample_obama.dropna(inplace=True)\n",
    "# print(sample_obama.shape)\n",
    "# sample_obama.head(5)\n",
    "# sample_df_X = sample_obama['tweet']\n",
    "# sample_df_Y = sample_obama['class']\n",
    "# X_sample_vectors = tfidf_vectorizer.transform(sample_df_X)"
   ]
  },
  {
   "cell_type": "markdown",
   "metadata": {},
   "source": [
    "Predicting for our sample test data:"
   ]
  },
  {
   "cell_type": "code",
   "execution_count": 190,
   "metadata": {},
   "outputs": [],
   "source": [
    "sample_y_pred = voting.predict(X_sample_vectors)\n",
    "# print(classification_report(sample_df_Y,sample_y_pred))"
   ]
  },
  {
   "cell_type": "markdown",
   "metadata": {},
   "source": [
    "Finally, we write our predicted classes to an excel sheet."
   ]
  },
  {
   "cell_type": "code",
   "execution_count": null,
   "metadata": {},
   "outputs": [],
   "source": [
    "output_data['Predicted class'] = sample_y_pred\n",
    "output_data.to_excel('C:/Users/utsav/OneDrive/UIC/Fall_2023/CS_583/Project/output_obama.xlsx', index=False)"
   ]
  },
  {
   "cell_type": "markdown",
   "metadata": {},
   "source": [
    "Resources:<br>\n",
    "https://www.kirenz.com/post/2021-12-11-text-mining-and-sentiment-analysis-with-nltk-and-pandas-in-python/text-mining-and-sentiment-analysis-with-nltk-and-pandas-in-python/ <br>\n",
    "https://medium.com/@qacbustamante/natural-language-processing-using-python-part-1-958d4ea1846e <br>\n",
    "https://www.geeksforgeeks.org/ml-voting-classifier-using-sklearn/ <br>"
   ]
  }
 ],
 "metadata": {
  "kernelspec": {
   "display_name": "CS418",
   "language": "python",
   "name": "python3"
  },
  "language_info": {
   "codemirror_mode": {
    "name": "ipython",
    "version": 3
   },
   "file_extension": ".py",
   "mimetype": "text/x-python",
   "name": "python",
   "nbconvert_exporter": "python",
   "pygments_lexer": "ipython3",
   "version": "3.9.16"
  }
 },
 "nbformat": 4,
 "nbformat_minor": 2
}
